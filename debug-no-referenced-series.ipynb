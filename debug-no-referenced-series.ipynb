{
 "cells": [
  {
   "cell_type": "code",
   "execution_count": 28,
   "metadata": {},
   "outputs": [],
   "source": [
    "import pydicom\n",
    "import SimpleITK as sitk\n",
    "import subprocess"
   ]
  },
  {
   "cell_type": "markdown",
   "metadata": {},
   "source": [
    "Get `itkimage2segimage` from [dcmqi](https://github.com/QIICR/dcmqi/releases)"
   ]
  },
  {
   "cell_type": "code",
   "execution_count": 29,
   "metadata": {},
   "outputs": [],
   "source": [
    "itkimage2segimage_bin = (\n",
    "    \"/Users/vanossj/Downloads/dcmqi-1.2.6-mac-20231103-abb26a8/bin/itkimage2segimage\"\n",
    ")\n",
    "\n",
    "scan_dcm_dir = \"debug-data/ProstateX-0031/dcm\"  # mri scan dicom files\n",
    "scan_nii = \"debug-data/ProstateX-0031/mri.nii.gz\"  # mri scan nii used for model input\n",
    "seg_nii = \"debug-data/ProstateX-0031/seg.nii.gz\"  # model output\n",
    "zenodo_seg_dcm = \"debug-data/ProstateX-0031/zenodo.seg.dcm\"  # final result on zenodo\n",
    "output_seg_dcm = \"debug-data/ProstateX-0031/output.seg.dcm\"  # test conversion"
   ]
  },
  {
   "cell_type": "code",
   "execution_count": 30,
   "metadata": {},
   "outputs": [
    {
     "name": "stdout",
     "output_type": "stream",
     "text": [
      "dcmqi repository URL: https://github.com/QIICR/dcmqi revision: abb26a8 tag: \n",
      "Loaded segmentation from debug-data/ProstateX-0031/seg.nii.gz\n",
      "Searching recursively debug-data/ProstateX-0031/dcm for DICOM files\n",
      "0 of 19 slices mapped to source DICOM images\n",
      "Found 2 label(s)\n",
      "Processing label 1\n",
      "Total non-empty slices that will be encoded in SEG for label 1 is 13\n",
      " (inclusive from 6 to 19)\n",
      "Saved segmentation as debug-data/ProstateX-0031/output.seg.dcm\n"
     ]
    },
    {
     "data": {
      "text/plain": [
       "CompletedProcess(args=['/Users/vanossj/Downloads/dcmqi-1.2.6-mac-20231103-abb26a8/bin/itkimage2segimage', '--skip', '--inputImageList', 'debug-data/ProstateX-0031/seg.nii.gz', '--inputDICOMDirectory', 'debug-data/ProstateX-0031/dcm', '--outputDICOM', 'debug-data/ProstateX-0031/output.seg.dcm', '--inputMetadata', 'debug-data/ProstateX-0031/ai-dicom-seg-meta.json'], returncode=0)"
      ]
     },
     "execution_count": 30,
     "metadata": {},
     "output_type": "execute_result"
    }
   ],
   "source": [
    "args = [\n",
    "    itkimage2segimage_bin,\n",
    "    \"--skip\",\n",
    "    \"--inputImageList\",\n",
    "    seg_nii,\n",
    "    \"--inputDICOMDirectory\",\n",
    "    scan_dcm_dir,\n",
    "    \"--outputDICOM\",\n",
    "    output_seg_dcm,\n",
    "    \"--inputMetadata\",\n",
    "    \"debug-data/ProstateX-0031/ai-dicom-seg-meta.json\",\n",
    "]\n",
    "subprocess.run(args)"
   ]
  },
  {
   "cell_type": "code",
   "execution_count": 31,
   "metadata": {},
   "outputs": [
    {
     "name": "stdout",
     "output_type": "stream",
     "text": [
      "size:  (384, 384, 13)\n",
      "spacing:  (0.5, 0.5, 3.0000001302312103)\n"
     ]
    }
   ],
   "source": [
    "zenodo_seg_img = sitk.ReadImage(zenodo_seg_dcm)\n",
    "print(\"size: \", zenodo_seg_img.GetSize())\n",
    "print(\"spacing: \", zenodo_seg_img.GetSpacing())"
   ]
  },
  {
   "cell_type": "code",
   "execution_count": 32,
   "metadata": {},
   "outputs": [
    {
     "name": "stdout",
     "output_type": "stream",
     "text": [
      "size:  (384, 384, 13)\n",
      "spacing:  (0.5, 0.5, 3.0000001302312103)\n"
     ]
    }
   ],
   "source": [
    "output_seg_img = sitk.ReadImage(output_seg_dcm)\n",
    "print(\"size: \", output_seg_img.GetSize())\n",
    "print(\"spacing: \", output_seg_img.GetSpacing())"
   ]
  },
  {
   "cell_type": "code",
   "execution_count": 33,
   "metadata": {},
   "outputs": [
    {
     "name": "stdout",
     "output_type": "stream",
     "text": [
      "size:  (384, 384, 19)\n",
      "spacing:  (0.5, 0.5, 3.0)\n"
     ]
    }
   ],
   "source": [
    "nii_scan_img = sitk.ReadImage(scan_nii)\n",
    "print(\"size: \", nii_scan_img.GetSize())\n",
    "print(\"spacing: \", nii_scan_img.GetSpacing())"
   ]
  },
  {
   "cell_type": "code",
   "execution_count": 34,
   "metadata": {},
   "outputs": [
    {
     "name": "stdout",
     "output_type": "stream",
     "text": [
      "size:  (384, 384, 19)\n",
      "spacing:  (0.5, 0.5, 2.9999999563086726)\n"
     ]
    }
   ],
   "source": [
    "reader = sitk.ImageSeriesReader()\n",
    "reader.SetFileNames(reader.GetGDCMSeriesFileNames(scan_dcm_dir))\n",
    "dcm_scan_img = reader.Execute()\n",
    "print(\"size: \", dcm_scan_img.GetSize())\n",
    "print(\"spacing: \", dcm_scan_img.GetSpacing())"
   ]
  },
  {
   "cell_type": "code",
   "execution_count": 35,
   "metadata": {},
   "outputs": [],
   "source": [
    "ds = pydicom.dcmread(output_seg_dcm)"
   ]
  },
  {
   "cell_type": "code",
   "execution_count": 36,
   "metadata": {},
   "outputs": [
    {
     "ename": "AttributeError",
     "evalue": "'FileDataset' object has no attribute 'ReferencedSeriesSequence'",
     "output_type": "error",
     "traceback": [
      "\u001b[0;31m---------------------------------------------------------------------------\u001b[0m",
      "\u001b[0;31mAttributeError\u001b[0m                            Traceback (most recent call last)",
      "\u001b[1;32m/Users/vanossj/projects/aimi-prostate-mr/debug-no-referenced-series.ipynb Cell 10\u001b[0m line \u001b[0;36m1\n\u001b[0;32m----> <a href='vscode-notebook-cell:/Users/vanossj/projects/aimi-prostate-mr/debug-no-referenced-series.ipynb#X14sZmlsZQ%3D%3D?line=0'>1</a>\u001b[0m ds\u001b[39m.\u001b[39;49mReferencedSeriesSequence\n",
      "File \u001b[0;32m~/projects/aimi-prostate-mr/.venv/lib/python3.11/site-packages/pydicom/dataset.py:908\u001b[0m, in \u001b[0;36mDataset.__getattr__\u001b[0;34m(self, name)\u001b[0m\n\u001b[1;32m    906\u001b[0m     \u001b[39mreturn\u001b[39;00m {}\n\u001b[1;32m    907\u001b[0m \u001b[39m# Try the base class attribute getter (fix for issue 332)\u001b[39;00m\n\u001b[0;32m--> 908\u001b[0m \u001b[39mreturn\u001b[39;00m \u001b[39mobject\u001b[39;49m\u001b[39m.\u001b[39;49m\u001b[39m__getattribute__\u001b[39;49m(\u001b[39mself\u001b[39;49m, name)\n",
      "\u001b[0;31mAttributeError\u001b[0m: 'FileDataset' object has no attribute 'ReferencedSeriesSequence'"
     ]
    }
   ],
   "source": [
    "ds.ReferencedSeriesSequence"
   ]
  },
  {
   "cell_type": "code",
   "execution_count": null,
   "metadata": {},
   "outputs": [],
   "source": []
  }
 ],
 "metadata": {
  "kernelspec": {
   "display_name": ".venv",
   "language": "python",
   "name": "python3"
  },
  "language_info": {
   "codemirror_mode": {
    "name": "ipython",
    "version": 3
   },
   "file_extension": ".py",
   "mimetype": "text/x-python",
   "name": "python",
   "nbconvert_exporter": "python",
   "pygments_lexer": "ipython3",
   "version": "3.11.6"
  }
 },
 "nbformat": 4,
 "nbformat_minor": 2
}
