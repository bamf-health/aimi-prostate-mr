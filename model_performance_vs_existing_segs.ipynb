{
 "cells": [
  {
   "cell_type": "markdown",
   "metadata": {},
   "source": [
    "# Model Performance\n",
    "When the AIMI 2024 project was initiated there were no existing segmentations in the IDC PROSTATE-MRI-US-BIOPSY collection. Since the, other segmentations have been added. We can compare our model performance to these segmentations."
   ]
  },
  {
   "cell_type": "code",
   "execution_count": 1,
   "metadata": {},
   "outputs": [],
   "source": [
    "%%capture\n",
    "%pip install numpy pandas pydicom pydicom-seg scikit-learn seaborn requests SimpleITK matplotlib google-cloud-bigquery db-dtypes tqdm\n",
    "%pip install segmentationmetrics"
   ]
  },
  {
   "cell_type": "markdown",
   "metadata": {},
   "source": [
    "## Import required python packages"
   ]
  },
  {
   "cell_type": "code",
   "execution_count": 2,
   "metadata": {},
   "outputs": [],
   "source": [
    "import warnings\n",
    "\n",
    "warnings.filterwarnings(\"ignore\")\n",
    "\n",
    "import io\n",
    "import os\n",
    "import subprocess\n",
    "import zipfile\n",
    "from pathlib import Path\n",
    "from typing import Union\n",
    "\n",
    "import matplotlib.pyplot as plt\n",
    "import numpy as np\n",
    "import pandas as pd\n",
    "import pydicom\n",
    "import pydicom_seg\n",
    "import requests\n",
    "import scipy.stats as stats\n",
    "import seaborn as sns\n",
    "import segmentationmetrics as sm\n",
    "import SimpleITK as sitk\n",
    "from google.cloud import bigquery\n",
    "from segmentationmetrics.surface_distance import compute_surface_dice_at_tolerance\n",
    "from tqdm.auto import tqdm\n",
    "\n",
    "sns.set_theme(style=\"whitegrid\")\n",
    "%matplotlib inline"
   ]
  },
  {
   "cell_type": "code",
   "execution_count": 3,
   "metadata": {},
   "outputs": [],
   "source": [
    "plt_colors = {\n",
    "    \"ne2\": \"#5eceb0\",\n",
    "    \"rad1\": \"#9e70e1\",\n",
    "    \"tp\": \"k\",\n",
    "    \"fp\": \"b\",\n",
    "    \"fn\": \"r\",\n",
    "}\n",
    "\n",
    "revewer_cmap = sns.color_palette([plt_colors[\"ne2\"], plt_colors[\"rad1\"]])\n",
    "vol_cmap = sns.color_palette([plt_colors[\"fp\"], plt_colors[\"fn\"]])"
   ]
  },
  {
   "cell_type": "code",
   "execution_count": 4,
   "metadata": {},
   "outputs": [],
   "source": [
    "def load_dcm_seg(seg_path: Path, label: Union[str, int] = 1):\n",
    "    dcm = pydicom.dcmread(str(seg_path))\n",
    "    reader = pydicom_seg.SegmentReader()\n",
    "    result = reader.read(dcm)\n",
    "    if isinstance(label, str):\n",
    "        for segment_number in result.available_segments:\n",
    "            if result.segment_infos[segment_number].SegmentLabel == label:\n",
    "                label = segment_number\n",
    "                break\n",
    "        assert isinstance(label, int), f\"Label {label} not found in segmentation\"\n",
    "    image = result.segment_image(label)\n",
    "    image = sitk.Cast(image, sitk.sitkUInt8)\n",
    "    return image\n",
    "\n",
    "\n",
    "def resize_label(img: sitk.Image, ref_img: sitk.Image, interp=sitk.sitkNearestNeighbor):\n",
    "    resampler = sitk.ResampleImageFilter()\n",
    "    resampler.SetReferenceImage(ref_img)\n",
    "    resampler.SetInterpolator(interp)\n",
    "    resampler.SetDefaultPixelValue(0)\n",
    "    resampled_img = resampler.Execute(img)\n",
    "    return resampled_img\n",
    "\n",
    "\n",
    "def calc_metrics_for_label(\n",
    "    ai_img, qa_img, series_uid, label_value=1, version=\"aimiv2\", label_suffix=\"\"\n",
    "):\n",
    "    qa_img = resize_label(qa_img, ai_img)  # match the size of the ai_img\n",
    "    ai_arr = sitk.GetArrayFromImage(ai_img)\n",
    "    qa_arr = sitk.GetArrayFromImage(qa_img)\n",
    "    spacing = ai_img.GetSpacing()[::-1]  # numpy is reversed dimensions from sitk\n",
    "\n",
    "    qa_img = resize_label(qa_img, ai_img)  # match the size of the ai_img\n",
    "    m = sm.SegmentationMetrics(ai_arr, qa_arr, spacing)\n",
    "    metrics = {\n",
    "        \"dice\": m.dice,\n",
    "        \"hausdorff_distance_95\": m.hausdorff_distance,\n",
    "        \"mean_surface_distance\": m.mean_surface_distance,\n",
    "        \"mean_surface_distance_tol_4\": compute_surface_dice_at_tolerance(\n",
    "            m._surface_dist, 4\n",
    "        ),\n",
    "        \"SeriesUID\": series_uid,  # from medical segmentation decathlon\n",
    "        \"label\": label_value,\n",
    "        \"version\": version,\n",
    "    }\n",
    "\n",
    "    if label_suffix:\n",
    "        metrics = {f\"{k}_{label_suffix}\": v for k, v in metrics.items()}\n",
    "    return metrics"
   ]
  },
  {
   "cell_type": "markdown",
   "metadata": {},
   "source": [
    "# Download the AIMI segmentations results from zenodo"
   ]
  },
  {
   "cell_type": "code",
   "execution_count": 5,
   "metadata": {},
   "outputs": [],
   "source": [
    "qa_dir = Path(\"qa-results\")"
   ]
  },
  {
   "cell_type": "code",
   "execution_count": 6,
   "metadata": {},
   "outputs": [],
   "source": [
    "def download_inference(\n",
    "    extract_dir=\"qa-results\", record=\"13244892\", filename=\"prostate-mr.zip\"\n",
    "):\n",
    "    url = f\"https://zenodo.org/record/{record}/files/{filename}\"\n",
    "    # download the zip file and extract it\n",
    "    r = requests.get(url)\n",
    "    z = zipfile.ZipFile(io.BytesIO(r.content))\n",
    "    z.extractall(extract_dir)\n",
    "\n",
    "\n",
    "if not qa_dir.exists() or not (qa_dir / \"ai-segmentations-dcm\").exists():\n",
    "    download_inference(qa_dir)"
   ]
  },
  {
   "cell_type": "markdown",
   "metadata": {},
   "source": [
    "# Download `Prostate-MRI-US-Biopsy-DICOM-Annotations` segmentations from IDC\n",
    "Create a file `gcp_project.txt` with the GCP project name to use to download the segmentations."
   ]
  },
  {
   "cell_type": "code",
   "execution_count": 7,
   "metadata": {},
   "outputs": [],
   "source": [
    "# generate s5 download script\n",
    "s5_download_script = Path(\"Prostate-MRI-US-Biopsy-DICOM-Annotations.s5cmd\")\n",
    "\n",
    "if not s5_download_script.exists():\n",
    "    with open(\"gcp_project.txt\", \"r\") as file:\n",
    "        project_id = file.read().replace(\"\\n\", \"\")\n",
    "\n",
    "    # python API is the most flexible way to query IDC BigQuery metadata tables\n",
    "    bq_client = bigquery.Client(project_id)\n",
    "\n",
    "    selection_query = f\"\"\"\n",
    "  SELECT\n",
    "    # Organize the files in-place right after downloading\n",
    "    ANY_VALUE(CONCAT(\"cp s3\",REGEXP_SUBSTR(gcs_url, \"(://.*)/\"),\"/* \",analysis_result_id,\"/\",PatientID,\"/\",StudyInstanceUID,\"/\",SeriesInstanceUID)) AS s5cmd_command\n",
    "  FROM\n",
    "    `bigquery-public-data.idc_current.dicom_all`\n",
    "  WHERE\n",
    "    collection_id=\"prostate_mri_us_biopsy\" AND Modality=\"SEG\" AND analysis_result_id='Prostate-MRI-US-Biopsy-DICOM-Annotations'\n",
    "  GROUP BY\n",
    "    SeriesInstanceUID\n",
    "  \"\"\"\n",
    "\n",
    "    selection_result = bq_client.query(selection_query)\n",
    "    selection_df = selection_result.result().to_dataframe()\n",
    "    selection_df.to_csv(s5_download_script, header=False, index=False)"
   ]
  },
  {
   "cell_type": "code",
   "execution_count": 8,
   "metadata": {},
   "outputs": [],
   "source": [
    "# Download the Prostate-MRI-US-Biopsy-DICOM-Annotations dataset\n",
    "s5_download_dir = Path(\"Prostate-MRI-US-Biopsy-DICOM-Annotations\")\n",
    "if not s5_download_dir.exists():\n",
    "    subprocess.run(\n",
    "        f\"s5cmd --no-sign-request --endpoint-url https://storage.googleapis.com run {s5_download_script}\",\n",
    "        shell=True,\n",
    "    )"
   ]
  },
  {
   "cell_type": "code",
   "execution_count": 9,
   "metadata": {},
   "outputs": [
    {
     "data": {
      "application/vnd.jupyter.widget-view+json": {
       "model_id": "c874a9ca496e413ea7dcb9e5dc34bb3b",
       "version_major": 2,
       "version_minor": 0
      },
      "text/plain": [
       "  0%|          | 0/2328 [00:00<?, ?it/s]"
      ]
     },
     "metadata": {},
     "output_type": "display_data"
    }
   ],
   "source": [
    "# segmentation file referenced series instance UID -> filepath, if that seg file has a label 'prostate'\n",
    "segment_file_map = {}\n",
    "\n",
    "files = list((s5_download_dir.rglob(\"*.dcm\")))\n",
    "for f in tqdm(files):\n",
    "    dcm = pydicom.dcmread(f)\n",
    "    reader = pydicom_seg.SegmentReader()\n",
    "    result = reader.read(dcm)\n",
    "    for segment_number in result.available_segments:\n",
    "        if result.segment_infos[segment_number].SegmentLabel == \"Prostate\":\n",
    "            segment_file_map[dcm.ReferencedSeriesSequence[0].SeriesInstanceUID] = f\n",
    "            break"
   ]
  },
  {
   "cell_type": "markdown",
   "metadata": {},
   "source": [
    "## Performance on other datasets\n",
    "\n",
    "Lets check how the model performs on:\n",
    "* Task 5 of the [Medical Segmentation Decathlon](http://medicaldecathlon.com/)\n",
    "* [PROMISE12](https://promise12.grand-challenge.org/)\n",
    "* [QIN-Prostate-Repeatability](https://wiki.cancerimagingarchive.net/display/Public/QIN-PROSTATE-Repeatability)\n",
    "\n",
    "Use the `prostate_mr_qa_datasets.ipynb` notebook to process and download these datasets in nifti format.\n",
    "\n",
    "Extract the zip files and you should have the following folders:\n",
    "\n",
    "* MSD/Task05_Prostate/T2imagesTr/\n",
    "* MSD/Task05_Prostate/prostateLabelsTr/\n",
    "* promise12/imagesTr/\n",
    "* promise12/labelsTr/\n",
    "* qin-prostate-repeatability/imagesTr/\n",
    "* qin-prostate-repeatability/labelsTr/\n",
    "\n",
    "### Run model\n",
    "\n",
    "Run the model that was published to [mhub.ai](https://mhub.ai/models/bamf_nnunet_mr_prostate).\n",
    "\n",
    "```bash\n",
    "docker run --rm -t --gpus all -v $in:/app/data/input_data -v $out:/app/data/output_data mhubai/bamf_nnunet_mr_prostate\n",
    "\n",
    "```\n",
    "Run the following commands to run the model in the container and predict the prostate segmentation for the three datasets.\n",
    "\n",
    "* MSD\n",
    "\n",
    "```bash\n",
    "mkdir -p {REPO_DIR}/MSD/Task05_Prostate/predTr\n",
    "docker run --gpus all -v {REPO_DIR}/MSD/Task05_Prostate/T2imagesTr:/data/input -v {REPO_DIR}/MSD/Task05_Prostate/predTr:/data/output bamf_prostate_mr:latest --nifti\n",
    "```\n",
    "\n",
    "* PROMISE12\n",
    "\n",
    "```bash\n",
    "mkdir -p {REPO_DIR}/promise12/predTr\n",
    "docker run --gpus all -v {REPO_DIR}/promise12/imagesTr:/data/input -v {REPO_DIR}/promise12/predTr:/data/output bamf_prostate_mr:latest --nifti\n",
    "```\n",
    "\n",
    "* QIN-Prostate-Repeatability (QPR)\n",
    "\n",
    "```bash\n",
    "mkdir -p {REPO_DIR}/qin-prostate-repeatability/predTr\n",
    "docker run --gpus all -v {REPO_DIR}/qin-prostate-repeatability/imagesTr:/data/input -v {REPO_DIR}/qin-prostate-repeatability/predTr:/data/output bamf_prostate_mr:latest --nifti\n",
    "```\n",
    "\n",
    "Then we can calcuate metrics for these datasets"
   ]
  },
  {
   "cell_type": "code",
   "execution_count": null,
   "metadata": {},
   "outputs": [],
   "source": []
  },
  {
   "cell_type": "markdown",
   "metadata": {},
   "source": [
    "# Compare segmentations\n",
    "Compare the segmentations from the AIMI 2024 project to the segmentations from the IDC PROSTATE-MRI-US-BIOPSY collection."
   ]
  },
  {
   "cell_type": "code",
   "execution_count": 10,
   "metadata": {},
   "outputs": [],
   "source": [
    "df = pd.read_csv(qa_dir / \"qa-results.csv\")"
   ]
  },
  {
   "cell_type": "code",
   "execution_count": 11,
   "metadata": {},
   "outputs": [
    {
     "data": {
      "application/vnd.jupyter.widget-view+json": {
       "model_id": "cde58a26371f425ebdc0317d33e5963c",
       "version_major": 2,
       "version_minor": 0
      },
      "text/plain": [
       "  0%|          | 0/817 [00:00<?, ?it/s]"
      ]
     },
     "metadata": {},
     "output_type": "display_data"
    }
   ],
   "source": [
    "df = pd.read_csv(qa_dir / \"qa-results.csv\")\n",
    "df = df[df[\"Collection\"] == \"prostate_mri_us_biopsy\"]\n",
    "metrics = []\n",
    "\n",
    "for _, row in tqdm(df.iterrows(), total=len(df)):\n",
    "    seg_a_file = qa_dir / \"ai-segmentations-dcm\" / row[\"AISegmentation\"]\n",
    "    assert seg_a_file.exists(), f\"AI segmentation {seg_a_file} does not exist\"\n",
    "    seg_b_file = segment_file_map.get(row[\"SeriesInstanceUID\"])\n",
    "    if seg_b_file is None:\n",
    "        print(f\"QA segmentation not found for {row['SeriesInstanceUID']}\")\n",
    "        continue\n",
    "    seg_qa_file = None\n",
    "    if not pd.isna(row[\"CorrectedSegmentation\"]):\n",
    "        seg_qa_file = qa_dir / \"qa-segmentations-dcm\" / row[\"CorrectedSegmentation\"]\n",
    "        assert seg_qa_file.exists(), f\"QA segmentation {seg_qa_file} does not exist\"\n",
    "\n",
    "    img_a = load_dcm_seg(seg_a_file, 1)\n",
    "    img_b = load_dcm_seg(seg_b_file, \"Prostate\")\n",
    "    metric = calc_metrics_for_label(\n",
    "        img_a,\n",
    "        img_b,\n",
    "        row.SeriesInstanceUID,\n",
    "        version=\"Prostate-MRI-US-Biopsy-DICOM-Annotations\",\n",
    "    )\n",
    "\n",
    "    metrics.append(metric)\n",
    "\n",
    "metrics_df = pd.DataFrame(metrics)\n",
    "\n",
    "# Replace infinite values with NaN and drop NaN values\n",
    "metrics_df = metrics_df.replace([np.inf, -np.inf], np.nan).dropna()"
   ]
  },
  {
   "cell_type": "code",
   "execution_count": 12,
   "metadata": {},
   "outputs": [],
   "source": [
    "metrics_df.to_csv(\"metrics-other.csv\", index=False)"
   ]
  },
  {
   "cell_type": "code",
   "execution_count": 13,
   "metadata": {},
   "outputs": [
    {
     "data": {
      "text/html": [
       "<div>\n",
       "<style scoped>\n",
       "    .dataframe tbody tr th:only-of-type {\n",
       "        vertical-align: middle;\n",
       "    }\n",
       "\n",
       "    .dataframe tbody tr th {\n",
       "        vertical-align: top;\n",
       "    }\n",
       "\n",
       "    .dataframe thead tr th {\n",
       "        text-align: left;\n",
       "    }\n",
       "\n",
       "    .dataframe thead tr:last-of-type th {\n",
       "        text-align: right;\n",
       "    }\n",
       "</style>\n",
       "<table border=\"1\" class=\"dataframe\">\n",
       "  <thead>\n",
       "    <tr>\n",
       "      <th></th>\n",
       "      <th></th>\n",
       "      <th colspan=\"2\" halign=\"left\">dice</th>\n",
       "      <th colspan=\"2\" halign=\"left\">hausdorff_distance_95</th>\n",
       "      <th colspan=\"2\" halign=\"left\">mean_surface_distance</th>\n",
       "      <th colspan=\"2\" halign=\"left\">mean_surface_distance_tol_4</th>\n",
       "    </tr>\n",
       "    <tr>\n",
       "      <th></th>\n",
       "      <th></th>\n",
       "      <th>mean</th>\n",
       "      <th>std</th>\n",
       "      <th>mean</th>\n",
       "      <th>std</th>\n",
       "      <th>mean</th>\n",
       "      <th>std</th>\n",
       "      <th>mean</th>\n",
       "      <th>std</th>\n",
       "    </tr>\n",
       "    <tr>\n",
       "      <th>label</th>\n",
       "      <th>version</th>\n",
       "      <th></th>\n",
       "      <th></th>\n",
       "      <th></th>\n",
       "      <th></th>\n",
       "      <th></th>\n",
       "      <th></th>\n",
       "      <th></th>\n",
       "      <th></th>\n",
       "    </tr>\n",
       "  </thead>\n",
       "  <tbody>\n",
       "    <tr>\n",
       "      <th>1</th>\n",
       "      <th>Prostate-MRI-US-Biopsy-DICOM-Annotations</th>\n",
       "      <td>0.89</td>\n",
       "      <td>0.05</td>\n",
       "      <td>4.14</td>\n",
       "      <td>3.35</td>\n",
       "      <td>1.15</td>\n",
       "      <td>0.66</td>\n",
       "      <td>0.96</td>\n",
       "      <td>0.06</td>\n",
       "    </tr>\n",
       "  </tbody>\n",
       "</table>\n",
       "</div>"
      ],
      "text/plain": [
       "                                                dice        \\\n",
       "                                                mean   std   \n",
       "label version                                                \n",
       "1     Prostate-MRI-US-Biopsy-DICOM-Annotations  0.89  0.05   \n",
       "\n",
       "                                               hausdorff_distance_95        \\\n",
       "                                                                mean   std   \n",
       "label version                                                                \n",
       "1     Prostate-MRI-US-Biopsy-DICOM-Annotations                  4.14  3.35   \n",
       "\n",
       "                                               mean_surface_distance        \\\n",
       "                                                                mean   std   \n",
       "label version                                                                \n",
       "1     Prostate-MRI-US-Biopsy-DICOM-Annotations                  1.15  0.66   \n",
       "\n",
       "                                               mean_surface_distance_tol_4  \\\n",
       "                                                                      mean   \n",
       "label version                                                                \n",
       "1     Prostate-MRI-US-Biopsy-DICOM-Annotations                        0.96   \n",
       "\n",
       "                                                      \n",
       "                                                 std  \n",
       "label version                                         \n",
       "1     Prostate-MRI-US-Biopsy-DICOM-Annotations  0.06  "
      ]
     },
     "execution_count": 13,
     "metadata": {},
     "output_type": "execute_result"
    }
   ],
   "source": [
    "# Group by 'label' and 'version' and aggregate metrics\n",
    "aggregated_df = (\n",
    "    metrics_df.groupby([\"label\", \"version\"])\n",
    "    .agg(\n",
    "        {\n",
    "            \"dice\": [\"mean\", \"std\"],\n",
    "            \"hausdorff_distance_95\": [\"mean\", \"std\"],\n",
    "            \"mean_surface_distance\": [\"mean\", \"std\"],\n",
    "            \"mean_surface_distance_tol_4\": [\"mean\", \"std\"],\n",
    "        }\n",
    "    )\n",
    "    .round(2)\n",
    ")\n",
    "\n",
    "aggregated_df"
   ]
  },
  {
   "cell_type": "code",
   "execution_count": 14,
   "metadata": {},
   "outputs": [
    {
     "ename": "KeyError",
     "evalue": "'mean_surface_distance_tol_7'",
     "output_type": "error",
     "traceback": [
      "\u001b[0;31m---------------------------------------------------------------------------\u001b[0m",
      "\u001b[0;31mKeyError\u001b[0m                                  Traceback (most recent call last)",
      "File \u001b[0;32m~/projects/aimi-prostate-mr/.venv/lib/python3.11/site-packages/pandas/core/indexes/base.py:3790\u001b[0m, in \u001b[0;36mIndex.get_loc\u001b[0;34m(self, key)\u001b[0m\n\u001b[1;32m   3789\u001b[0m \u001b[38;5;28;01mtry\u001b[39;00m:\n\u001b[0;32m-> 3790\u001b[0m     \u001b[38;5;28;01mreturn\u001b[39;00m \u001b[38;5;28;43mself\u001b[39;49m\u001b[38;5;241;43m.\u001b[39;49m\u001b[43m_engine\u001b[49m\u001b[38;5;241;43m.\u001b[39;49m\u001b[43mget_loc\u001b[49m\u001b[43m(\u001b[49m\u001b[43mcasted_key\u001b[49m\u001b[43m)\u001b[49m\n\u001b[1;32m   3791\u001b[0m \u001b[38;5;28;01mexcept\u001b[39;00m \u001b[38;5;167;01mKeyError\u001b[39;00m \u001b[38;5;28;01mas\u001b[39;00m err:\n",
      "File \u001b[0;32mindex.pyx:152\u001b[0m, in \u001b[0;36mpandas._libs.index.IndexEngine.get_loc\u001b[0;34m()\u001b[0m\n",
      "File \u001b[0;32mindex.pyx:181\u001b[0m, in \u001b[0;36mpandas._libs.index.IndexEngine.get_loc\u001b[0;34m()\u001b[0m\n",
      "File \u001b[0;32mpandas/_libs/hashtable_class_helper.pxi:7080\u001b[0m, in \u001b[0;36mpandas._libs.hashtable.PyObjectHashTable.get_item\u001b[0;34m()\u001b[0m\n",
      "File \u001b[0;32mpandas/_libs/hashtable_class_helper.pxi:7088\u001b[0m, in \u001b[0;36mpandas._libs.hashtable.PyObjectHashTable.get_item\u001b[0;34m()\u001b[0m\n",
      "\u001b[0;31mKeyError\u001b[0m: 'mean_surface_distance_tol_7'",
      "\nThe above exception was the direct cause of the following exception:\n",
      "\u001b[0;31mKeyError\u001b[0m                                  Traceback (most recent call last)",
      "Cell \u001b[0;32mIn[14], line 21\u001b[0m\n\u001b[1;32m     18\u001b[0m ax \u001b[38;5;241m=\u001b[39m axs[row, col]\n\u001b[1;32m     20\u001b[0m \u001b[38;5;66;03m# Extract data for current metric\u001b[39;00m\n\u001b[0;32m---> 21\u001b[0m label1_data \u001b[38;5;241m=\u001b[39m \u001b[43mlabel1_df\u001b[49m\u001b[43m[\u001b[49m\u001b[43mmetric\u001b[49m\u001b[43m]\u001b[49m\n\u001b[1;32m     23\u001b[0m \u001b[38;5;66;03m# Check if label2_data has values and is not empty\u001b[39;00m\n\u001b[1;32m     24\u001b[0m \u001b[38;5;28;01mif\u001b[39;00m \u001b[38;5;129;01mnot\u001b[39;00m label1_data\u001b[38;5;241m.\u001b[39mempty:\n\u001b[1;32m     25\u001b[0m     \u001b[38;5;66;03m# Convert data to numeric if necessary\u001b[39;00m\n",
      "File \u001b[0;32m~/projects/aimi-prostate-mr/.venv/lib/python3.11/site-packages/pandas/core/frame.py:3896\u001b[0m, in \u001b[0;36mDataFrame.__getitem__\u001b[0;34m(self, key)\u001b[0m\n\u001b[1;32m   3894\u001b[0m \u001b[38;5;28;01mif\u001b[39;00m \u001b[38;5;28mself\u001b[39m\u001b[38;5;241m.\u001b[39mcolumns\u001b[38;5;241m.\u001b[39mnlevels \u001b[38;5;241m>\u001b[39m \u001b[38;5;241m1\u001b[39m:\n\u001b[1;32m   3895\u001b[0m     \u001b[38;5;28;01mreturn\u001b[39;00m \u001b[38;5;28mself\u001b[39m\u001b[38;5;241m.\u001b[39m_getitem_multilevel(key)\n\u001b[0;32m-> 3896\u001b[0m indexer \u001b[38;5;241m=\u001b[39m \u001b[38;5;28;43mself\u001b[39;49m\u001b[38;5;241;43m.\u001b[39;49m\u001b[43mcolumns\u001b[49m\u001b[38;5;241;43m.\u001b[39;49m\u001b[43mget_loc\u001b[49m\u001b[43m(\u001b[49m\u001b[43mkey\u001b[49m\u001b[43m)\u001b[49m\n\u001b[1;32m   3897\u001b[0m \u001b[38;5;28;01mif\u001b[39;00m is_integer(indexer):\n\u001b[1;32m   3898\u001b[0m     indexer \u001b[38;5;241m=\u001b[39m [indexer]\n",
      "File \u001b[0;32m~/projects/aimi-prostate-mr/.venv/lib/python3.11/site-packages/pandas/core/indexes/base.py:3797\u001b[0m, in \u001b[0;36mIndex.get_loc\u001b[0;34m(self, key)\u001b[0m\n\u001b[1;32m   3792\u001b[0m     \u001b[38;5;28;01mif\u001b[39;00m \u001b[38;5;28misinstance\u001b[39m(casted_key, \u001b[38;5;28mslice\u001b[39m) \u001b[38;5;129;01mor\u001b[39;00m (\n\u001b[1;32m   3793\u001b[0m         \u001b[38;5;28misinstance\u001b[39m(casted_key, abc\u001b[38;5;241m.\u001b[39mIterable)\n\u001b[1;32m   3794\u001b[0m         \u001b[38;5;129;01mand\u001b[39;00m \u001b[38;5;28many\u001b[39m(\u001b[38;5;28misinstance\u001b[39m(x, \u001b[38;5;28mslice\u001b[39m) \u001b[38;5;28;01mfor\u001b[39;00m x \u001b[38;5;129;01min\u001b[39;00m casted_key)\n\u001b[1;32m   3795\u001b[0m     ):\n\u001b[1;32m   3796\u001b[0m         \u001b[38;5;28;01mraise\u001b[39;00m InvalidIndexError(key)\n\u001b[0;32m-> 3797\u001b[0m     \u001b[38;5;28;01mraise\u001b[39;00m \u001b[38;5;167;01mKeyError\u001b[39;00m(key) \u001b[38;5;28;01mfrom\u001b[39;00m \u001b[38;5;21;01merr\u001b[39;00m\n\u001b[1;32m   3798\u001b[0m \u001b[38;5;28;01mexcept\u001b[39;00m \u001b[38;5;167;01mTypeError\u001b[39;00m:\n\u001b[1;32m   3799\u001b[0m     \u001b[38;5;66;03m# If we have a listlike key, _check_indexing_error will raise\u001b[39;00m\n\u001b[1;32m   3800\u001b[0m     \u001b[38;5;66;03m#  InvalidIndexError. Otherwise we fall through and re-raise\u001b[39;00m\n\u001b[1;32m   3801\u001b[0m     \u001b[38;5;66;03m#  the TypeError.\u001b[39;00m\n\u001b[1;32m   3802\u001b[0m     \u001b[38;5;28mself\u001b[39m\u001b[38;5;241m.\u001b[39m_check_indexing_error(key)\n",
      "\u001b[0;31mKeyError\u001b[0m: 'mean_surface_distance_tol_7'"
     ]
    },
    {
     "data": {
      "image/png": "[encoded data removed]",
      "text/plain": [
       "<Figure size 1200x1000 with 4 Axes>"
      ]
     },
     "metadata": {},
     "output_type": "display_data"
    }
   ],
   "source": [
    "label1_df = metrics_df[metrics_df.label == 1]\n",
    "\n",
    "# Create a figure and axis for subplots\n",
    "fig, axs = plt.subplots(nrows=2, ncols=2, figsize=(12, 10))\n",
    "\n",
    "# List of metrics to plot\n",
    "metrics = [\n",
    "    \"dice\",\n",
    "    \"hausdorff_distance_95\",\n",
    "    \"mean_surface_distance\",\n",
    "    \"mean_surface_distance_tol_7\",\n",
    "]\n",
    "\n",
    "# Plot each metric\n",
    "for i, metric in enumerate(metrics):\n",
    "    row = i // 2\n",
    "    col = i % 2\n",
    "    ax = axs[row, col]\n",
    "\n",
    "    # Extract data for current metric\n",
    "    label1_data = label1_df[metric]\n",
    "\n",
    "    # Check if label2_data has values and is not empty\n",
    "    if not label1_data.empty:\n",
    "        # Convert data to numeric if necessary\n",
    "        label1_data = pd.to_numeric(label1_data, errors=\"coerce\")\n",
    "\n",
    "        # Drop NaN values if any (optional)\n",
    "        label1_data = label1_data.dropna()\n",
    "\n",
    "        # Check if after dropping NaN, there's still data\n",
    "        if not label1_data.empty:\n",
    "            # Create boxplots side by side\n",
    "            ax.boxplot([label1_data], patch_artist=True, showmeans=True)\n",
    "            ax.set_title(f\"{metric.split('aimiv2_')[-1]}\")\n",
    "            ax.set_xticklabels([\"Prostate\"])  # Update x-axis labels to \"Lesions\"\n",
    "        else:\n",
    "            # Handle case where data might be dropped to empty\n",
    "            print(f\"No valid data available for {metric} after cleaning.\")\n",
    "    else:\n",
    "        # If label2_data is empty, handle accordingly (e.g., print a message)\n",
    "        print(f\"No data available for {metric} in label2 (Lesions).\")\n",
    "\n",
    "# Adjust layout\n",
    "plt.tight_layout()\n",
    "plt.show()"
   ]
  }
 ],
 "metadata": {
  "kernelspec": {
   "display_name": "Python 3 (ipykernel)",
   "language": "python",
   "name": "python3"
  },
  "language_info": {
   "codemirror_mode": {
    "name": "ipython",
    "version": 3
   },
   "file_extension": ".py",
   "mimetype": "text/x-python",
   "name": "python",
   "nbconvert_exporter": "python",
   "pygments_lexer": "ipython3",
   "version": "3.11.4"
  }
 },
 "nbformat": 4,
 "nbformat_minor": 4
}
