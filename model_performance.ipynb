{
 "cells": [
  {
   "cell_type": "markdown",
   "metadata": {},
   "source": [
    "# Model Performance\n",
    "We can assess the models performance by comparing the AI's predictions to the manual corrections and other datasets: [Medical Segmentation Decathlon](http://medicaldecathlon.com/) (MSD), [QIN-Prostate](https://wiki.cancerimagingarchive.net/display/Public/QIN-PROSTATE-Repeatability), and [PROMISE12](https://promise12.grand-challenge.org/)\n",
    "\n",
    "## Prerequisites\n",
    "Install python packages"
   ]
  },
  {
   "cell_type": "code",
   "execution_count": 2,
   "metadata": {},
   "outputs": [],
   "source": [
    "%%capture\n",
    "%pip install pandas pydicom pydicom-seg scikit-learn seaborn segmentationmetrics"
   ]
  },
  {
   "cell_type": "markdown",
   "metadata": {},
   "source": [
    "Import required python packages"
   ]
  },
  {
   "cell_type": "code",
   "execution_count": 3,
   "metadata": {},
   "outputs": [],
   "source": [
    "import warnings\n",
    "warnings.filterwarnings('ignore')\n",
    "\n",
    "from pathlib import Path\n",
    "import requests\n",
    "import zipfile\n",
    "import io\n",
    "import pandas as pd\n",
    "from sklearn.metrics import cohen_kappa_score\n",
    "import pydicom\n",
    "import pydicom_seg\n",
    "import SimpleITK as sitk\n",
    "import segmentationmetrics as sm\n",
    "from segmentationmetrics.surface_distance import compute_surface_dice_at_tolerance\n",
    "import seaborn as sns\n",
    "sns.set_theme(style=\"whitegrid\")\n",
    "colors = ['#4e67c8','#5ecbf3', '#5dceae','#a7ea53']\n",
    "sns.set_palette(sns.color_palette(colors))\n",
    "%matplotlib inline\n"
   ]
  },
  {
   "cell_type": "markdown",
   "metadata": {},
   "source": [
    "## Manual correction\n",
    "To compare model performance against the manual corrections, we need to download the dicom-seg files of the ai predictions and the manual corrections from zenodo.\n"
   ]
  },
  {
   "cell_type": "code",
   "execution_count": 4,
   "metadata": {},
   "outputs": [],
   "source": [
    "qa_dir = Path(\"qa-results\")"
   ]
  },
  {
   "cell_type": "code",
   "execution_count": 5,
   "metadata": {},
   "outputs": [],
   "source": [
    "def download_inference(\n",
    "    extract_dir=\"qa-results\",\n",
    "    url=\"https://zenodo.org/record/8352041/files/prostate-mr.zip\",\n",
    "):\n",
    "    # download the zip file and extract it\n",
    "    r = requests.get(url)\n",
    "    z = zipfile.ZipFile(io.BytesIO(r.content))\n",
    "    z.extractall(extract_dir)\n",
    "\n",
    "\n",
    "if not qa_dir.exists():\n",
    "    download_inference()\n"
   ]
  },
  {
   "cell_type": "markdown",
   "metadata": {},
   "source": [
    "## Data Description\n",
    "The dataset was reviewed by two reviewers, a radiologist and a 'non-expert'. The non-expert was a medical student with some familiarity with radiology images. For this project, the non-expert scored every ai prediction while the radiologist only scored the validation set.\n",
    "\n",
    "Alone with the segmentation files, we also have a qa-resulst.csv file that gives more information on the quality assessment feedback from the manual reviewers.\n",
    "\n",
    "| column                      | description                                                                                      |\n",
    "| --------------------------- | ------------------------------------------------------------------------------------------------ |\n",
    "| Reviewer                    | Either `rad1` or `ne1` for Radiologist 1 and Non-expert 1 respectively                           |\n",
    "| Validataion                 | if this scan was in the validation set                                                           |\n",
    "| Collection                  | IDC collection name                                                                              |\n",
    "| PatientID                   | PatientID from dicom                                                                             |\n",
    "| StudyDate                   | StudyDate from dicom                                                                             |\n",
    "| StudyDate_suffix            | incrementing value to differentiate different scans from the same StudyDate                      |\n",
    "| StudyInstanceUID            | StudyInstanceUID from dicom                                                                      |\n",
    "| SeriesInstanceUID           | SeriesInstanceUID from dicom                                                                     |\n",
    "| AISegmentation              | filename of ai segmentatino                                                                      |\n",
    "| LikertScore                 | Reviewers opinion of how accurate the AI prediction was, see table below fr                      |\n",
    "| CommentsAboutAISegmentation | comments from the reviewer about the ai segmentation, usually how the AI underperformed          |\n",
    "| CommentsAboutScan           | comments from the reviewer about the scan, could be about unusual anatomy or scan artifacts.     |\n",
    "| CorrectedSegmentation       | file name of the manually corrected segmentation, this file is in `qa-segmentations-dcm`` folder |\n",
    "\n",
    "The Likert scale used for scoring was:\n",
    "\n",
    "| Score | Meaning |\n",
    "| --- | --- |\n",
    "| 5 | Strongly Agree - Use-as-is (i.e., clinically acceptable, and could be used for treatment without change) |\n",
    "| 4 | Agree - Minor edits that are not necessary. Stylistic differences, but not clinically important. The current segmentation is acceptable |\n",
    "| 3 | Neither agree nor disagree - Minor edits that are necessary. Minor edits are those that the review judges can be made in less time than starting from scratch or are expected to have minimal effect on treatment outcome |\n",
    "| 2 | Disagree - Major edits. This category indicates that the necessary edit is required to ensure correctness, and sufficiently significant that user would prefer to start from the scratch |\n",
    "| 1 | Strongly disagree - Unusable. This category indicates that the quality of the automatic annotations is so bad that they are unusable.|\n",
    "\n",
    "Alone with the segmentation files, we also have a `qa-resulst.csv` file that gives more information on the quality assessment feedback from the manual reviewers.\n",
    "\n",
    "| column | description |\n",
    "| --- | --- |\n",
    "| Reviewer| Either `rad1` or `ne1` for Radiologist 1 and Non-expert 1 respectively |\n",
    "| Validataion | if this scan was in the validation set, roughly 10% of the data |\n"
   ]
  },
  {
   "cell_type": "code",
   "execution_count": 6,
   "metadata": {},
   "outputs": [
    {
     "name": "stdout",
     "output_type": "stream",
     "text": [
      "9.80% of scans were validated (34/347)\n",
      "34 scans were reviewed by radiologist and non-expert\n"
     ]
    }
   ],
   "source": [
    "df = pd.read_csv(\n",
    "    qa_dir / \"qa-results.csv\",\n",
    "    dtype={\n",
    "        \"PatientID\": str,\n",
    "        \"StudyDate\": str,\n",
    "        \"StudyDate_suffix\": str,\n",
    "        \"LikertScore\": int,\n",
    "    },\n",
    ")\n",
    "\n",
    "# get validation subset\n",
    "val_df = df[df[\"Validation\"]]\n",
    "validation_size = len(val_df[\"SeriesInstanceUID\"].unique())\n",
    "total_size = len(df[\"SeriesInstanceUID\"].unique())\n",
    "print(\n",
    "    f\"{validation_size/total_size*100:.2f}% of scans were validated ({validation_size}/{total_size})\"\n",
    ")\n",
    "\n",
    "# get validation done by different reviewers\n",
    "rad_df = val_df.loc[val_df[\"Reviewer\"] == \"rad1\"]\n",
    "ne_df = val_df.loc[\n",
    "    (val_df[\"Reviewer\"] == \"ne1\")\n",
    "    & (val_df[\"AISegmentation\"]).isin(rad_df[\"AISegmentation\"])\n",
    "]\n",
    "\n",
    "rad_df = rad_df.sort_values(by=[\"AISegmentation\"])\n",
    "ne_df = ne_df.sort_values(by=[\"AISegmentation\"])\n",
    "\n",
    "assert len(rad_df) == len(ne_df)\n",
    "assert len(rad_df) == len(rad_df[\"AISegmentation\"].unique())\n",
    "\n",
    "print(f\"{len(rad_df)} scans were reviewed by radiologist and non-expert\")"
   ]
  },
  {
   "cell_type": "markdown",
   "metadata": {},
   "source": [
    "We caluclate the Cohen-Kappa score between the two reviewers. Cohen-Kappa is a measure of agreement between raters that takes into account the possibility of the agreement occurring by chance. This tells us how much we can trust the scores given by the non-expert reviewer for the portion of the dataset the Radiologist did not review.\n",
    "\n",
    "Kappa value interpretation Landis & Koch (1977):\n",
    "\n",
    "| Value     | Interpretation |\n",
    "| --------- | -------------- |\n",
    "| <0        | No agreement   |\n",
    "| 0 — .20   | Slight         |\n",
    "| .21 — .40 | Fair           |\n",
    "| .41 — .60 | Moderate       |\n",
    "| .61 — .80 | Substantial    |\n",
    "| .81–1.0   | Perfect        |\n"
   ]
  },
  {
   "cell_type": "code",
   "execution_count": 7,
   "metadata": {},
   "outputs": [
    {
     "name": "stdout",
     "output_type": "stream",
     "text": [
      "Cohen's Kappa: nan\n",
      "Percentage Agreement: 100.00%\n"
     ]
    }
   ],
   "source": [
    "rad_scores = rad_df.LikertScore.values\n",
    "ne_scores = ne_df.LikertScore.values\n",
    "# Calculate Cohen's Kappa\n",
    "kappa = cohen_kappa_score(rad_scores, ne_scores, labels=[1, 2, 3, 4, 5])\n",
    "\n",
    "print(f\"Cohen's Kappa: {kappa:.2f}\")\n",
    "\n",
    "# Calculate percentage agreement\n",
    "total_cases = len(rad_scores)\n",
    "matching_cases = sum(1 for r1, r2 in zip(rad_scores, ne_scores) if r1 == r2)\n",
    "percentage_agreement = (matching_cases / total_cases) * 100\n",
    "\n",
    "print(f\"Percentage Agreement: {percentage_agreement:.2f}%\")\n"
   ]
  },
  {
   "cell_type": "code",
   "execution_count": 8,
   "metadata": {},
   "outputs": [
    {
     "data": {
      "text/plain": [
       "<seaborn.axisgrid.FacetGrid at 0x7fe73778ff10>"
      ]
     },
     "execution_count": 8,
     "metadata": {},
     "output_type": "execute_result"
    },
    {
     "data": {
      "image/png": "[encoded data removed]",
      "text/plain": [
       "<Figure size 740.75x600 with 1 Axes>"
      ]
     },
     "metadata": {},
     "output_type": "display_data"
    }
   ],
   "source": [
    "df2 = val_df.groupby([\"Reviewer\", \"LikertScore\"]).count()\n",
    "for reviewer in val_df[\"Reviewer\"].unique():\n",
    "    for score in range(1, 6):\n",
    "        if (reviewer, score) not in df2.index:\n",
    "            df2.loc[(reviewer, score), \"SeriesInstanceUID\"] = 0\n",
    "\n",
    "df2.reset_index(inplace=True)\n",
    "# change rad1 to radiologist\n",
    "df2.replace({\"rad1\": \"Radiologist\", \"ne1\": \"Non-expert\"}, inplace=True)\n",
    "\n",
    "g = sns.catplot(\n",
    "    data=df2,\n",
    "    kind=\"bar\",\n",
    "    x=\"LikertScore\",\n",
    "    y=\"SeriesInstanceUID\",\n",
    "    hue=\"Reviewer\",\n",
    "    # alpha=0.6,\n",
    "    height=6,\n",
    "    orient=\"v\",\n",
    ")\n",
    "# g.despine(left=True)\n",
    "g.set_axis_labels(\"Likert Score\", \"Counts\")\n",
    "g.legend.set_title(\"\")\n",
    "g.set(title=f\"Likert Score by Reviewer\\nCohen's Kappa: {kappa:.2f}\")"
   ]
  },
  {
   "cell_type": "markdown",
   "metadata": {},
   "source": [
    "Each of the reviewers rated all of the validation set as 5, meaning the AI segmentations were fine as is and did not even need stylistic changes. Thats a great result, but doesn't leave us with much to look at in the way of metrics between ai and manual corrections. Instead we can compare this models performance against other datasets with existing expert segmentations.\n",
    "\n",
    "We will compare the results across three metrics: Dice Similarity Coefficient (DSC), 95% Hausdorff distance, and Normalized Mean Surface Distance (NSD).\n",
    "* DSC measures volume similarity between two segmentations.\n",
    "* 95% Hausdorff distance measures the agreement between surfaces. This is the distance were 95% of points on the surface are within the specified distance of the other surface.\n",
    "* NSD measures the average distance between the surfaces. It includes an acceptable tolerance that is dependant on the task. For prostate segmentation, the Medical Segmentation Decathlon set this tolerance to 4 mm."
   ]
  },
  {
   "cell_type": "code",
   "execution_count": 9,
   "metadata": {},
   "outputs": [],
   "source": [
    "def load_dcm_seg(seg_path: Path, label=1):\n",
    "    dcm = pydicom.dcmread(str(seg_path))\n",
    "    reader = pydicom_seg.SegmentReader()\n",
    "    result = reader.read(dcm)\n",
    "    image = result.segment_image(label)\n",
    "    image = sitk.Cast(image, sitk.sitkUInt8)\n",
    "    return image\n",
    "\n",
    "\n",
    "def load_nii_seg(seg_path: Path, label=1):\n",
    "    img = sitk.ReadImage(str(seg_path))\n",
    "    img = sitk.Cast(img == label, sitk.sitkUInt8)\n",
    "    return img\n",
    "\n",
    "\n",
    "def load_seg(seg_path: Path, label=1):\n",
    "    if seg_path.suffix == \".dcm\":\n",
    "        return load_dcm_seg(seg_path, label)\n",
    "    else:\n",
    "        return load_nii_seg(seg_path, label)\n",
    "\n",
    "\n",
    "def resize_label(img: sitk.Image, ref_img: sitk.Image, interp=sitk.sitkNearestNeighbor):\n",
    "    resampler = sitk.ResampleImageFilter()\n",
    "    resampler.SetReferenceImage(ref_img)\n",
    "    resampler.SetInterpolator(interp)\n",
    "    resampler.SetDefaultPixelValue(0)\n",
    "    resampled_img = resampler.Execute(img)\n",
    "    return resampled_img\n",
    "\n",
    "\n",
    "def calc_metrics_for_label(ai_seg_file, qa_seg_file, label_value=1, label_suffix=\"\"):\n",
    "    ai_img = load_seg(ai_seg_file, label_value)\n",
    "    qa_img = load_seg(qa_seg_file, label_value)\n",
    "    qa_img = resize_label(qa_img, ai_img)  # match the size of the ai_img\n",
    "    ai_arr = sitk.GetArrayFromImage(ai_img)\n",
    "    qa_arr = sitk.GetArrayFromImage(qa_img)\n",
    "    spacing = ai_img.GetSpacing()[::-1]  # numpy is reversed dimensions from sitk\n",
    "\n",
    "    qa_img = resize_label(qa_img, ai_img)  # match the size of the ai_img\n",
    "    m = sm.SegmentationMetrics(ai_arr, qa_arr, spacing)\n",
    "\n",
    "    metrics = {\n",
    "        \"dice\": m.dice,\n",
    "        \"hausdorff_distance_95\": m.hausdorff_distance,\n",
    "        \"mean_surface_distance\": m.mean_surface_distance,\n",
    "        \"mean_surface_distance_tol_4\": compute_surface_dice_at_tolerance(\n",
    "            m._surface_dist, 4\n",
    "        ),  # from medical segmentation decathlon\n",
    "    }\n",
    "    if label_suffix:\n",
    "        metrics = {f\"{k}_{label_suffix}\": v for k, v in metrics.items()}\n",
    "    return metrics\n",
    "\n",
    "\n",
    "def add_metrics_to_df(df):\n",
    "    for i, row in df.iterrows():\n",
    "        ai_seg_file = qa_dir / \"ai-segmentations-dcm\" / row[\"AISegmentation\"]\n",
    "        if row[\"LikertScore\"] < 5:\n",
    "            qa_seg_file = qa_dir / \"qa-segmentations-dcm\" / row[\"CorrectedSegmentation\"]\n",
    "        else:\n",
    "            qa_seg_file = ai_seg_file\n",
    "\n",
    "        assert ai_seg_file.exists()\n",
    "        assert qa_seg_file.exists()\n",
    "\n",
    "        metrics = calc_metrics_for_label(ai_seg_file, qa_seg_file)\n",
    "        metrics[\"label\"] = \"prostate\"\n",
    "        for k, v in metrics.items():\n",
    "            df.loc[i, k] = v\n"
   ]
  },
  {
   "cell_type": "markdown",
   "metadata": {},
   "source": [
    "## Performance on other datasets\n",
    "\n",
    "Lets check how the model performs on:\n",
    "* Task 5 of the [Medical Segmentation Decathlon](http://medicaldecathlon.com/)\n",
    "* [PROMISE12](https://promise12.grand-challenge.org/)\n",
    "* [QIN-Prostate-Repeatability](https://wiki.cancerimagingarchive.net/display/Public/QIN-PROSTATE-Repeatability)\n",
    "\n",
    "Use the `prostate_mr_qa_datasets.ipynb` notebook to process and download these datasets in nifti format.\n",
    "\n",
    "Extract the zip files and you should have the following folders:\n",
    "\n",
    "* MSD/Task05_Prostate/T2imagesTr/\n",
    "* MSD/Task05_Prostate/prostateLabelsTr/\n",
    "* promise12/imagesTr/\n",
    "* promise12/labelsTr/\n",
    "* qin-prostate-repeatability/imagesTr/\n",
    "* qin-prostate-repeatability/labelsTr/\n",
    "\n",
    "### Run model\n",
    "\n",
    "Run the following commands to run the model in the container and predict the prostate segmentation for the three datasets.\n",
    "\n",
    "* MSD\n",
    "\n",
    "```bash\n",
    "mkdir -p {REPO_DIR}/MSD/Task05_Prostate/predTr\n",
    "docker run --gpus all -v {REPO_DIR}/MSD/Task05_Prostate/T2imagesTr:/data/input -v {REPO_DIR}/MSD/Task05_Prostate/predTr:/data/output bamf_prostate_mr:latest --nifti\n",
    "```\n",
    "\n",
    "* PROMISE12\n",
    "\n",
    "```bash\n",
    "mkdir -p {REPO_DIR}/promise12/predTr\n",
    "docker run --gpus all -v {REPO_DIR}/promise12/imagesTr:/data/input -v {REPO_DIR}/promise12/predTr:/data/output bamf_prostate_mr:latest --nifti\n",
    "```\n",
    "\n",
    "* QIN-Prostate-Repeatability (QPR)\n",
    "\n",
    "```bash\n",
    "mkdir -p {REPO_DIR}/qin-prostate-repeatability/predTr\n",
    "docker run --gpus all -v {REPO_DIR}/qin-prostate-repeatability/imagesTr:/data/input -v {REPO_DIR}/qin-prostate-repeatability/predTr:/data/output bamf_prostate_mr:latest --nifti\n",
    "```\n",
    "\n",
    "Then we can calcuate metrics for these datasets"
   ]
  },
  {
   "cell_type": "code",
   "execution_count": 80,
   "metadata": {},
   "outputs": [],
   "source": [
    "msd_preds = Path(\"MSD/Task05_Prostate/predTr\")\n",
    "msd_gt = Path(\"MSD/Task05_Prostate/prostateLabelsTr\")\n",
    "\n",
    "msd_df = pd.DataFrame.from_dict(\n",
    "    {\n",
    "        \"ai\": sorted(list(msd_preds.glob(\"*.nii.gz\"))),\n",
    "        \"gt\": sorted(list(msd_gt.glob(\"*.nii.gz\"))),\n",
    "        \"dataset\": \"MSD\",\n",
    "    }\n",
    ")\n",
    "\n",
    "p12_preds = Path(\"promise12/predTr\")\n",
    "p12_gt = Path(\"promise12/labelsTr\")\n",
    "p12_df = pd.DataFrame.from_dict(\n",
    "    {\n",
    "        \"ai\": sorted(list(p12_preds.glob(\"*.nii.gz\"))),\n",
    "        \"gt\": sorted(list(p12_gt.glob(\"*.nii.gz\"))),\n",
    "        \"dataset\": \"PROMISE12\",\n",
    "    }\n",
    ")\n",
    "\n",
    "qin_preds = Path(\"qin-prostate-repeatability/predTr\")\n",
    "qin_gt = Path(\"qin-prostate-repeatability/labelsTr\")\n",
    "qin_df = pd.DataFrame.from_dict(\n",
    "    {\n",
    "        \"ai\": sorted(list(qin_preds.glob(\"*.nii.gz\"))),\n",
    "        \"gt\": sorted(list(qin_gt.glob(\"*.nii.gz\"))),\n",
    "        \"dataset\": \"QPR\",\n",
    "    }\n",
    ")\n",
    "\n",
    "df = pd.concat([msd_df, p12_df, qin_df], ignore_index=True)\n",
    "\n",
    "\n",
    "for i, row in df.iterrows():\n",
    "    ai_seg_file = row[\"ai\"]\n",
    "    qa_seg_file = row[\"gt\"]\n",
    "\n",
    "    assert ai_seg_file.exists()\n",
    "    assert qa_seg_file.exists()\n",
    "    assert ai_seg_file.name == qa_seg_file.name, f\"{ai_seg_file} != {qa_seg_file.name}\"\n",
    "\n",
    "    metrics = calc_metrics_for_label(ai_seg_file, qa_seg_file)\n",
    "    metrics[\"label\"] = \"prostate\"\n",
    "    for k, v in metrics.items():\n",
    "        df.loc[i, k] = v"
   ]
  },
  {
   "cell_type": "code",
   "execution_count": 81,
   "metadata": {},
   "outputs": [
    {
     "data": {
      "text/html": [
       "<div>\n",
       "<style scoped>\n",
       "    .dataframe tbody tr th:only-of-type {\n",
       "        vertical-align: middle;\n",
       "    }\n",
       "\n",
       "    .dataframe tbody tr th {\n",
       "        vertical-align: top;\n",
       "    }\n",
       "\n",
       "    .dataframe thead th {\n",
       "        text-align: right;\n",
       "    }\n",
       "</style>\n",
       "<table border=\"1\" class=\"dataframe\">\n",
       "  <thead>\n",
       "    <tr style=\"text-align: right;\">\n",
       "      <th></th>\n",
       "      <th>dice</th>\n",
       "      <th>mean_surface_distance_tol_4</th>\n",
       "      <th>hausdorff_distance_95</th>\n",
       "    </tr>\n",
       "    <tr>\n",
       "      <th>dataset</th>\n",
       "      <th></th>\n",
       "      <th></th>\n",
       "      <th></th>\n",
       "    </tr>\n",
       "  </thead>\n",
       "  <tbody>\n",
       "    <tr>\n",
       "      <th>MSD</th>\n",
       "      <td>0.903686</td>\n",
       "      <td>0.972082</td>\n",
       "      <td>3.648437</td>\n",
       "    </tr>\n",
       "    <tr>\n",
       "      <th>PROMISE12</th>\n",
       "      <td>0.905553</td>\n",
       "      <td>0.969084</td>\n",
       "      <td>4.102695</td>\n",
       "    </tr>\n",
       "    <tr>\n",
       "      <th>QPR</th>\n",
       "      <td>0.876060</td>\n",
       "      <td>0.946465</td>\n",
       "      <td>6.062883</td>\n",
       "    </tr>\n",
       "  </tbody>\n",
       "</table>\n",
       "</div>"
      ],
      "text/plain": [
       "               dice  mean_surface_distance_tol_4  hausdorff_distance_95\n",
       "dataset                                                                \n",
       "MSD        0.903686                     0.972082               3.648437\n",
       "PROMISE12  0.905553                     0.969084               4.102695\n",
       "QPR        0.876060                     0.946465               6.062883"
      ]
     },
     "execution_count": 81,
     "metadata": {},
     "output_type": "execute_result"
    }
   ],
   "source": [
    "# mean metric by dataset\n",
    "df[[\"dataset\", \"dice\", \"mean_surface_distance_tol_4\", \"hausdorff_distance_95\"]].groupby(\n",
    "    \"dataset\"\n",
    ").mean()"
   ]
  },
  {
   "cell_type": "markdown",
   "metadata": {},
   "source": [
    "nnUNet was the winning algorithm in the Medical Segmentation Decathlon. MSD scored entries for Dice Similarity Coefficient and Noramlized Surface Distance (tolerance=4mm) for the prostate task. In MSD, there were two prostate tasts for the peripheral zone and transition zone. Both scores are given in the table for the nnUNet MSD entry.\n",
    "\n",
    "| Algorithm     | Mean DSC | Mean NSD |\n",
    "| ------------- | -------- | -------- |\n",
    "| nnUNet MSD    | 0.76, 0.90     | 0.96, 0.99     |\n",
    "| nnUNet (ours) |  0.90   |   0.97  |\n",
    "\n",
    "Comparing the model performance across stats and datasets, our model performed well and comparable to nnUNets winning Medical Decathlon entry."
   ]
  },
  {
   "cell_type": "code",
   "execution_count": 82,
   "metadata": {},
   "outputs": [
    {
     "data": {
      "text/plain": [
       "<seaborn.axisgrid.FacetGrid at 0x7fe731302560>"
      ]
     },
     "execution_count": 82,
     "metadata": {},
     "output_type": "execute_result"
    },
    {
     "data": {
      "image/png": "[encoded data removed]",
      "text/plain": [
       "<Figure size 500x500 with 1 Axes>"
      ]
     },
     "metadata": {},
     "output_type": "display_data"
    }
   ],
   "source": [
    "g = sns.catplot(data=df, x=\"dataset\", y=\"dice\", kind=\"box\")\n",
    "g.set_axis_labels(\"Dataset\", \"DSC\")\n"
   ]
  },
  {
   "cell_type": "code",
   "execution_count": 83,
   "metadata": {},
   "outputs": [
    {
     "data": {
      "text/plain": [
       "<seaborn.axisgrid.FacetGrid at 0x7fe7331af820>"
      ]
     },
     "execution_count": 83,
     "metadata": {},
     "output_type": "execute_result"
    },
    {
     "data": {
      "image/png": "[encoded data removed]",
      "text/plain": [
       "<Figure size 500x500 with 1 Axes>"
      ]
     },
     "metadata": {},
     "output_type": "display_data"
    }
   ],
   "source": [
    "g = sns.catplot(data=df, x=\"dataset\", y=\"mean_surface_distance_tol_4\", kind=\"box\")\n",
    "g.set_axis_labels(\"Dataset\", \"Normalized Surface Dice\\n(tolerance=4mm)\")"
   ]
  },
  {
   "cell_type": "code",
   "execution_count": 84,
   "metadata": {},
   "outputs": [
    {
     "data": {
      "text/plain": [
       "<seaborn.axisgrid.FacetGrid at 0x7fe7312a1c60>"
      ]
     },
     "execution_count": 84,
     "metadata": {},
     "output_type": "execute_result"
    },
    {
     "data": {
      "image/png": "[encoded data removed]",
      "text/plain": [
       "<Figure size 500x500 with 1 Axes>"
      ]
     },
     "metadata": {},
     "output_type": "display_data"
    }
   ],
   "source": [
    "g = sns.catplot(data=df, x=\"dataset\", y=\"hausdorff_distance_95\", kind=\"box\")\n",
    "g.set_axis_labels(\"Dataset\", \"95% Hausdorff Distance (mm)\")"
   ]
  },
  {
   "cell_type": "code",
   "execution_count": null,
   "metadata": {},
   "outputs": [],
   "source": []
  }
 ],
 "metadata": {
  "kernelspec": {
   "display_name": ".venv",
   "language": "python",
   "name": "python3"
  },
  "language_info": {
   "codemirror_mode": {
    "name": "ipython",
    "version": 3
   },
   "file_extension": ".py",
   "mimetype": "text/x-python",
   "name": "python",
   "nbconvert_exporter": "python",
   "pygments_lexer": "ipython3",
   "version": "3.10.12"
  },
  "orig_nbformat": 4
 },
 "nbformat": 4,
 "nbformat_minor": 2
}
