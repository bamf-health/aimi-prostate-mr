{
  "cells": [
    {
      "cell_type": "markdown",
      "metadata": {
        "colab_type": "text",
        "id": "view-in-github"
      },
      "source": [
        "<a href=\"https://colab.research.google.com/github/bamf-health/aimi-prostate-mr/blob/colab-datasets/prostate_mr_qa_datasets.ipynb\" target=\"_parent\"><img src=\"https://colab.research.google.com/assets/colab-badge.svg\" alt=\"Open In Colab\"/></a>"
      ]
    },
    {
      "cell_type": "markdown",
      "metadata": {
        "id": "7QvGUP87T00f"
      },
      "source": [
        "# Validataion Datasets\n",
        "\n",
        "Get other datasets preped for validation with the model.\n",
        "\n",
        "## prerequisites\n",
        "1. Install required packages\n",
        "2. import them"
      ]
    },
    {
      "cell_type": "code",
      "execution_count": null,
      "metadata": {
        "id": "KyL94mw0T1iy"
      },
      "outputs": [],
      "source": [
        "%%capture\n",
        "%%shell\n",
        "pip install SimpleITK tqdm ipywidgets pydicom pydicom-seg"
      ]
    },
    {
      "cell_type": "code",
      "execution_count": null,
      "metadata": {
        "id": "R6jRhE-_U47l"
      },
      "outputs": [],
      "source": [
        "#@title Enter your Project ID and authenticate with GCP\n",
        "# initialize this variable with your Google Cloud Project ID!\n",
        "my_ProjectID = ''\n",
        "\n",
        "import os\n",
        "os.environ[\"GCP_PROJECT_ID\"] = my_ProjectID\n",
        "\n",
        "from google.colab import auth\n",
        "auth.authenticate_user()\n",
        "\n",
        "from pathlib import Path\n",
        "from tempfile import TemporaryDirectory\n",
        "import subprocess\n",
        "import shutil\n",
        "from tqdm.auto import tqdm\n",
        "import SimpleITK as sitk\n",
        "from google.colab import files\n",
        "import pydicom\n",
        "import pydicom_seg"
      ]
    },
    {
      "cell_type": "markdown",
      "metadata": {
        "id": "jvazvk9OUT9E"
      },
      "source": [
        "## Medical Segmentation Decathlon\n",
        "\n",
        "Task 5 of the [Medical Segmentation Decathlon](http://medicaldecathlon.com/) is to segment liver and liver tumors from CT scans. We can use this dataset to evaluate our model.\n",
        "\n",
        "1. Download and extract Task05_Prostate from the [Medical Segmentation Decathlon](http://medicaldecathlon.com/). You should have a folder structure of `MSD/Task05_Prostate/imagesTr` and `MSD/Task05_Prostate/labelsTr`.\n"
      ]
    },
    {
      "cell_type": "code",
      "execution_count": null,
      "metadata": {
        "colab": {
          "base_uri": "https://localhost:8080/"
        },
        "id": "Bl8SDjiyVeSW",
        "outputId": "5acdaea7-668d-4bf2-a4db-6a9d4622c975"
      },
      "outputs": [],
      "source": [
        "%%shell\n",
        "gdown 1Ff7c21UksxyT4JfETjaarmuKEjdqe1-a\n",
        "mkdir -p MSD\n",
        "tar -xf Task05_Prostate.tar -C MSD"
      ]
    },
    {
      "cell_type": "markdown",
      "metadata": {
        "id": "gnTcsDCIWyJ5"
      },
      "source": [
        "2. Extract just the T2 channel from the images"
      ]
    },
    {
      "cell_type": "code",
      "execution_count": null,
      "metadata": {
        "colab": {
          "base_uri": "https://localhost:8080/",
          "height": 49,
          "referenced_widgets": [
            "a9de09a2020d4596a278e8e7d04ebf89",
            "1a303719cf184f33b564c86ce593c749",
            "f157f06e801346f8a8f4a2e4107b3a9b",
            "a03728c58f754e1890bae187cbe81719",
            "7ac0268267d44315bab4104d7a81ef8c",
            "4b0c0192e3754d6aad99eecb4f9c7d18",
            "17ec41a72d59438796553db79e8ba984",
            "91820d5db6e04167b808066183fe9303",
            "e5de0a4539bd4a0b8a78aa4510e1d34a",
            "cb0c4644aedf4a3b8b1f301ff0e03d97",
            "52925167b2a443c4b95946527d8fedf9"
          ]
        },
        "id": "hIKybS4UUL1I",
        "outputId": "d44c79e0-9501-41a3-d830-8e84996ab072"
      },
      "outputs": [],
      "source": [
        "in_dir = Path(f\"MSD/Task05_Prostate/imagesTr\")\n",
        "out_dir = Path(f\"MSD/Task05_Prostate/T2imagesTr\")\n",
        "out_dir.mkdir(exist_ok=True)\n",
        "for img_path in tqdm(list(in_dir.glob(\"prostate_*.nii.gz\")), desc=\"Extracting T2 images\"):\n",
        "    img = sitk.ReadImage(str(img_path))[..., 0]\n",
        "    sitk.WriteImage(\n",
        "        img, str(out_dir / img_path.name), useCompression=True, compressionLevel=9\n",
        "    )\n"
      ]
    },
    {
      "cell_type": "markdown",
      "metadata": {},
      "source": [
        "3. Combine the labels into a single channel"
      ]
    },
    {
      "cell_type": "code",
      "execution_count": null,
      "metadata": {},
      "outputs": [],
      "source": [
        "in_dir = Path(f\"MSD/Task05_Prostate/labelsTr\")\n",
        "out_dir = Path(f\"MSD/Task05_Prostate/prostateLabelsTr\")\n",
        "out_dir.mkdir(exist_ok=True)\n",
        "for img_path in tqdm(list(in_dir.glob(\"prostate_*.nii.gz\")), desc=\"Combining segments\"):\n",
        "    img = sitk.ReadImage(str(img_path))\n",
        "    img = sitk.ChangeLabel(img, {2: 1})\n",
        "    sitk.WriteImage(\n",
        "        img, str(out_dir / img_path.name), useCompression=True, compressionLevel=9\n",
        "    )"
      ]
    },
    {
      "cell_type": "code",
      "execution_count": null,
      "metadata": {
        "colab": {
          "base_uri": "https://localhost:8080/"
        },
        "id": "E97GkrUlUWux",
        "outputId": "33a71f59-c377-4099-c561-f8d8f23941ae"
      },
      "outputs": [],
      "source": [
        "%%shell\n",
        "zip -r MSD.zip MSD/Task05_Prostate/T2imagesTr/prostate*.nii.gz MSD/Task05_Prostate/prostateLabelsTr/prostate*.nii.gz"
      ]
    },
    {
      "cell_type": "markdown",
      "metadata": {
        "id": "EoACaCQsZLEd"
      },
      "source": [
        "Download processed files"
      ]
    },
    {
      "cell_type": "code",
      "execution_count": null,
      "metadata": {
        "colab": {
          "base_uri": "https://localhost:8080/",
          "height": 17
        },
        "id": "NlfLl7h1YLo3",
        "outputId": "c7bd4886-2073-4789-cbf0-daf208794614"
      },
      "outputs": [],
      "source": [
        "files.download('MSD.zip')"
      ]
    },
    {
      "cell_type": "markdown",
      "metadata": {
        "id": "HB8atSs7Y3ID"
      },
      "source": [
        "## PROMISE12\n",
        "Download the [PROMISE12](https://promise12.grand-challenge.org/) dataset from zenodo"
      ]
    },
    {
      "cell_type": "code",
      "execution_count": null,
      "metadata": {
        "colab": {
          "base_uri": "https://localhost:8080/"
        },
        "id": "ANMf-ClGYOod",
        "outputId": "e1b499a5-625f-4ac5-9fde-b2794151096d"
      },
      "outputs": [],
      "source": [
        "%%shell\n",
        "mkdir -p promise12\n",
        "# live challenge test data\n",
        "wget https://zenodo.org/record/8026660/files/livechallenge_test_data.zip\n",
        "unzip livechallenge_test_data.zip -d promise12/livechallenge_test_data\n",
        "\n",
        "# test data\n",
        "wget https://zenodo.org/record/8026660/files/test_data.zip\n",
        "unzip test_data.zip -d promise12/test_data\n",
        "\n",
        "# training data\n",
        "wget https://zenodo.org/record/8026660/files/training_data.zip\n",
        "unzip training_data.zip -d promise12/training_data"
      ]
    },
    {
      "cell_type": "markdown",
      "metadata": {
        "id": "1UbPiagfZFBL"
      },
      "source": [
        "Convert the mhd/raw files to nifti"
      ]
    },
    {
      "cell_type": "code",
      "execution_count": null,
      "metadata": {
        "colab": {
          "base_uri": "https://localhost:8080/",
          "height": 49,
          "referenced_widgets": [
            "babc4d7f8e2c48b5a859c43be8694ab0",
            "db597dcd4905468bb2be8c48dd72c736",
            "1c1405cffa8c41c698bb74f275991a28",
            "6c48bb38cd2a4b8b876c2e33361f4496",
            "69dbdc0f51c149c3a486dc4faa3e7cde",
            "9f1469e8baa54ae49051c1ab928b8577",
            "c24b5e0b0fa34ba1bb5730862741db26",
            "f9b52ecb879648279c820cadd21827b6",
            "d72eb98b40fc45189cef306356b92e31",
            "6cbc6872a8de42f8ad12c018f794f1d5",
            "acf21ce3f3c9475f8b2b19ace1a352b3"
          ]
        },
        "id": "syw4fdNkZFYh",
        "outputId": "e24b50e0-5d56-40e9-a597-e967ae37ab67"
      },
      "outputs": [],
      "source": [
        "# convert images and labels to nifti\n",
        "promise_nii_images = Path(\"promise12/imagesTr\")\n",
        "promise_nii_labels = Path(\"promise12/labelsTr\")\n",
        "promise_nii_images.mkdir(exist_ok=True)\n",
        "promise_nii_labels.mkdir(exist_ok=True)\n",
        "\n",
        "p_labals = sorted(list(Path(\"promise12\").rglob(\"*_segmentation.mhd\")))\n",
        "for i, lbl_file in enumerate(tqdm(p_labals, desc=\"Converting images\")):\n",
        "    lbl_file = str(lbl_file)\n",
        "    img_file = lbl_file.replace(\"_segmentation\", \"\")\n",
        "    assert Path(img_file).exists()\n",
        "    new_img_file = str(promise_nii_images / f\"promise12_{i:03d}.nii.gz\")\n",
        "    new_lbl_file = str(promise_nii_labels / f\"promise12_{i:03d}.nii.gz\")\n",
        "    sitk.WriteImage(\n",
        "        sitk.ReadImage(img_file), new_img_file, useCompression=True, compressionLevel=9\n",
        "    )\n",
        "    sitk.WriteImage(\n",
        "        sitk.ReadImage(lbl_file), new_lbl_file, useCompression=True, compressionLevel=9\n",
        "    )"
      ]
    },
    {
      "cell_type": "markdown",
      "metadata": {
        "id": "S3yZed5HZOul"
      },
      "source": [
        "Zip and download process files"
      ]
    },
    {
      "cell_type": "code",
      "execution_count": null,
      "metadata": {
        "colab": {
          "base_uri": "https://localhost:8080/"
        },
        "id": "J1XDUFu7ZQK4",
        "outputId": "0c1b32fd-c997-40d0-c14c-066c74920c1e"
      },
      "outputs": [],
      "source": [
        "%%shell\n",
        "zip -r promise12.zip promise12/imagesTr promise12/labelsTr"
      ]
    },
    {
      "cell_type": "code",
      "execution_count": null,
      "metadata": {
        "colab": {
          "base_uri": "https://localhost:8080/",
          "height": 17
        },
        "id": "_EaTLSyQZbZl",
        "outputId": "fd659e12-1c25-478d-9e73-63c65135e4a4"
      },
      "outputs": [],
      "source": [
        "files.download('promise12.zip')"
      ]
    },
    {
      "cell_type": "markdown",
      "metadata": {
        "id": "9yMQ_vEaY17A"
      },
      "source": [
        "## QIN-Prostate-Repeatability\n",
        "The [QIN-Prostate-Repeatability](https://wiki.cancerimagingarchive.net/display/Public/QIN-PROSTATE-Repeatability) collection can be downloaded from the IDC\n",
        "\n",
        "\n",
        "### Prerequisites\n",
        "Install the `s5cmd` tool for efficient manifest downloads"
      ]
    },
    {
      "cell_type": "code",
      "execution_count": null,
      "metadata": {
        "colab": {
          "base_uri": "https://localhost:8080/"
        },
        "id": "nRd91sikZj54",
        "outputId": "21f02400-37a8-4d41-cd1c-be366ea833cd"
      },
      "outputs": [],
      "source": [
        "%%shell\n",
        "VERSION=\"s5cmd_2.2.2_Linux-64bit\"\n",
        "wget https://github.com/peak/s5cmd/releases/download/v2.2.2/${VERSION}.tar.gz\n",
        "tar zxf ${VERSION}.tar.gz\n",
        "mv s5cmd /usr/bin"
      ]
    },
    {
      "cell_type": "markdown",
      "metadata": {
        "id": "mzFKy8MDaBcF"
      },
      "source": [
        "Install dcm2niix for dicom conversion. Use the prebuild version because it was jpeg support."
      ]
    },
    {
      "cell_type": "code",
      "execution_count": null,
      "metadata": {
        "colab": {
          "base_uri": "https://localhost:8080/"
        },
        "id": "TwPWXrkraBwh",
        "outputId": "c934a980-66aa-4b90-95d7-21514f728fb0"
      },
      "outputs": [],
      "source": [
        "%%shell\n",
        "curl -fLO https://github.com/rordenlab/dcm2niix/releases/latest/download/dcm2niix_lnx.zip\n",
        "unzip -o dcm2niix_lnx.zip -d /usr/bin"
      ]
    },
    {
      "cell_type": "markdown",
      "metadata": {
        "id": "UgYLh8bsaGPp"
      },
      "source": [
        "Query IDC for QIN-Prostate-Repeatability data"
      ]
    },
    {
      "cell_type": "code",
      "execution_count": null,
      "metadata": {
        "id": "ANlFZZQ_aKnx"
      },
      "outputs": [],
      "source": [
        "# python API is the most flexible way to query IDC BigQuery metadata tables\n",
        "from google.cloud import bigquery\n",
        "bq_client = bigquery.Client(my_ProjectID)\n",
        "\n",
        "seg_selection_query =f\"\"\"\n",
        "SELECT\n",
        "  ANY_VALUE(CONCAT(\"cp s3\",REGEXP_SUBSTR(gcs_url, \"(://.*)/\"),\"/* \",collection_id,\"/\",PatientID,\"/\",StudyInstanceUID,\"/T2AxialSeg\")) AS s5cmd_command\n",
        "FROM\n",
        "  `bigquery-public-data.idc_current.dicom_all`\n",
        "WHERE\n",
        "  collection_id = \"qin_prostate_repeatability\" AND SeriesDescription='T2 Weighted Axial Segmentations'\n",
        "GROUP BY\n",
        "  SeriesInstanceUID\n",
        "\"\"\"\n",
        "\n",
        "mr_selection_query =f\"\"\"\n",
        "SELECT\n",
        "  ANY_VALUE(CONCAT(\"cp s3\",REGEXP_SUBSTR(gcs_url, \"(://.*)/\"),\"/* \",collection_id,\"/\",PatientID,\"/\",StudyInstanceUID,\"/T2Axial\")) AS s5cmd_command\n",
        "FROM\n",
        "  `bigquery-public-data.idc_current.dicom_all`\n",
        "WHERE\n",
        "  collection_id = \"qin_prostate_repeatability\" AND SeriesDescription='T2 Weighted Axial'\n",
        "GROUP BY\n",
        "  SeriesInstanceUID\n",
        "\"\"\"\n",
        "\n",
        "selection_result = bq_client.query(seg_selection_query)\n",
        "selection_df = selection_result.result().to_dataframe()\n",
        "selection_df.to_csv(\"/content/s5cmd_gcp_manifest_seg.txt\", header=False, index=False)\n",
        "\n",
        "selection_result = bq_client.query(mr_selection_query)\n",
        "selection_df = selection_result.result().to_dataframe()\n",
        "selection_df.to_csv(\"/content/s5cmd_gcp_manifest_mr.txt\", header=False, index=False)"
      ]
    },
    {
      "cell_type": "markdown",
      "metadata": {
        "id": "lk3SNNAYeOwT"
      },
      "source": [
        "Download manifests with the `s5cmd` tool."
      ]
    },
    {
      "cell_type": "code",
      "execution_count": null,
      "metadata": {
        "colab": {
          "base_uri": "https://localhost:8080/"
        },
        "id": "Q31ggfXKeLQk",
        "outputId": "1e847321-fd29-4964-a221-f305b88a9bc9"
      },
      "outputs": [],
      "source": [
        "%%shell\n",
        "# check if dicoms have already been downloaded\n",
        "if test -n \"$(find dcms -name '*.dcm' -print -quit)\"\n",
        "then\n",
        "    echo \"dicoms already downloaded\"\n",
        "else\n",
        "  mkdir -p dcms\n",
        "  cd dcms\n",
        "  s5cmd --no-sign-request --endpoint-url https://storage.googleapis.com run ../s5cmd_gcp_manifest_seg.txt\n",
        "  s5cmd --no-sign-request --endpoint-url https://storage.googleapis.com run ../s5cmd_gcp_manifest_mr.txt\n",
        "  cd -\n",
        "fi"
      ]
    },
    {
      "cell_type": "markdown",
      "metadata": {
        "id": "K5-5o5lBhnaH"
      },
      "source": [
        "Functions to save label and mri as nifti from dicoms"
      ]
    },
    {
      "cell_type": "code",
      "execution_count": null,
      "metadata": {
        "id": "DgB02N-OgjNu"
      },
      "outputs": [],
      "source": [
        "def save_prostate_label(seg_file:Path, out_file:Path):\n",
        "  ds = pydicom.dcmread(seg_file)\n",
        "  reader = pydicom_seg.SegmentReader()\n",
        "  result = reader.read(ds)\n",
        "  for segment_number in result.available_segments:\n",
        "    if result.segment_infos[segment_number].SegmentLabel == 'Prostate':\n",
        "      image = result.segment_image(segment_number)\n",
        "      out_file.parent.mkdir(parents=True, exist_ok=True)\n",
        "      sitk.WriteImage(sitk.Cast(image, sitk.sitkUInt8), str(out_file), useCompression=True, compressionLevel=9)\n",
        "      break\n",
        "  else:\n",
        "    raise RuntimeError(f\"Could not find 'Prostate' label for {seg_file}\")"
      ]
    },
    {
      "cell_type": "code",
      "execution_count": null,
      "metadata": {
        "id": "DoUXi_f2hZNK"
      },
      "outputs": [],
      "source": [
        "def convert_dcm_to_nii(in_series_dir: Path, out_file: Path) -> bool:\n",
        "    with TemporaryDirectory() as tmpdir:\n",
        "        args = [\n",
        "            \"dcm2niix\",\n",
        "            \"-o\",\n",
        "            tmpdir,\n",
        "            \"-z\",\n",
        "            \"y\",\n",
        "            str(in_series_dir.resolve()),\n",
        "        ]\n",
        "        res = subprocess.run(args)\n",
        "        if res.returncode != 0:\n",
        "            return False\n",
        "\n",
        "        out_file.parent.mkdir(parents=True, exist_ok=True)\n",
        "\n",
        "        nii_files = list(Path(tmpdir).glob(\"*Eq_*.nii.gz\"))\n",
        "        if len(nii_files) > 1:\n",
        "            # raise ValueError(f\"Expected 1 Eq_*.nii.gz file, found {len(nii_files)}\")\n",
        "            return False\n",
        "        elif len(nii_files) == 1:\n",
        "            shutil.move(nii_files[0], out_file)\n",
        "            return True\n",
        "\n",
        "        # no Eq images\n",
        "        nii_files = list(Path(tmpdir).glob(\"*.nii.gz\"))\n",
        "        if len(nii_files) > 1:\n",
        "            # raise ValueError(f\"Expected 1 *.nii.gz file, found {len(nii_files)}\")\n",
        "            return False\n",
        "        elif len(nii_files) == 1:\n",
        "            shutil.move(nii_files[0], out_file)\n",
        "            return True\n",
        "        # raise ValueError(f\"Expected 1 *.nii.gz file, found 0\")\n",
        "        return False\n"
      ]
    },
    {
      "cell_type": "markdown",
      "metadata": {
        "id": "xDbliVl1iE3h"
      },
      "source": [
        "convert MRI and segmentation files to nifti"
      ]
    },
    {
      "cell_type": "code",
      "execution_count": null,
      "metadata": {
        "colab": {
          "base_uri": "https://localhost:8080/",
          "height": 49,
          "referenced_widgets": [
            "cf290afafd3848f9804138610db5d98c",
            "954618c25e6b4e318c6507eaa27eee20",
            "e8a46f8ac7594dfd998ac62d0b53d03f",
            "f1037f917cac41609c4746609b089b4f",
            "786defb6a82541899da07c48e1a76f8d",
            "b8c06b7e1a4246598a7169cb79f16c17",
            "b92b5f3b879e4de1b62e812635feba68",
            "195cb53580054763aefd6f5e68e0d6b0",
            "c975538c94284d0da22d81009561c81c",
            "af5307bf577848ef86ae65fac19d4e2c",
            "9189b2709e464743a075fdfbca28d523"
          ]
        },
        "id": "vG4jsZFQiRby",
        "outputId": "a72db660-c139-4837-f634-ea384fad3163"
      },
      "outputs": [],
      "source": [
        "seg_dcm_dirs = sorted(list(Path('dcms/qin_prostate_repeatability').rglob('T2AxialSeg')))\n",
        "save_dir = Path('qin-prostate-repeatability')\n",
        "\n",
        "for i, seg_dcm_dir in enumerate(tqdm(seg_dcm_dirs)):\n",
        "  mr_dcm_dir = seg_dcm_dir.parent / \"T2Axial\"\n",
        "  assert len(list(mr_dcm_dir.glob(\"*.dcm\"))), f'no dicom files found for {mr_dcm_dir}'\n",
        "\n",
        "  seg_dcm_file = list(seg_dcm_dir.glob(\"*.dcm\"))\n",
        "  assert len(seg_dcm_file)==1\n",
        "  seg_dcm_file = seg_dcm_file[0]\n",
        "\n",
        "  mr_nii = save_dir / 'imagesTr' / f\"qin-prostate_{i:03d}.nii.gz\"\n",
        "  label_nii = save_dir / 'labelsTr' / f\"qin-prostate_{i:03d}.nii.gz\"\n",
        "\n",
        "  # convert to nifti\n",
        "  convert_dcm_to_nii(mr_dcm_dir, mr_nii)\n",
        "  save_prostate_label(seg_dcm_file, label_nii)\n"
      ]
    },
    {
      "cell_type": "code",
      "execution_count": null,
      "metadata": {
        "colab": {
          "base_uri": "https://localhost:8080/"
        },
        "id": "-NyI1e97j3qU",
        "outputId": "f9c10ebf-0f7d-48b4-aa74-fccf3367a155"
      },
      "outputs": [],
      "source": [
        "%%shell\n",
        "zip -r qin-prostate-repeatability.zip qin-prostate-repeatability"
      ]
    },
    {
      "cell_type": "code",
      "execution_count": null,
      "metadata": {
        "colab": {
          "base_uri": "https://localhost:8080/",
          "height": 34
        },
        "id": "54Qz34P-k22C",
        "outputId": "740e5492-7e1a-4ba3-d543-4e2c767fee19"
      },
      "outputs": [],
      "source": [
        "files.download('qin-prostate-repeatability.zip')"
      ]
    },
    {
      "cell_type": "code",
      "execution_count": null,
      "metadata": {
        "id": "G8qO_21IlvJh"
      },
      "outputs": [],
      "source": []
    }
  ],
  "metadata": {
    "colab": {
      "authorship_tag": "ABX9TyPjyB13Bn0PUYoJ7ESWEoSv",
      "include_colab_link": true,
      "provenance": []
    },
    "kernelspec": {
      "display_name": "Python 3",
      "name": "python3"
    },
    "language_info": {
      "name": "python"
    },
    "widgets": {
      "application/vnd.jupyter.widget-state+json": {
        "17ec41a72d59438796553db79e8ba984": {
          "model_module": "@jupyter-widgets/controls",
          "model_module_version": "1.5.0",
          "model_name": "DescriptionStyleModel",
          "state": {
            "_model_module": "@jupyter-widgets/controls",
            "_model_module_version": "1.5.0",
            "_model_name": "DescriptionStyleModel",
            "_view_count": null,
            "_view_module": "@jupyter-widgets/base",
            "_view_module_version": "1.2.0",
            "_view_name": "StyleView",
            "description_width": ""
          }
        },
        "195cb53580054763aefd6f5e68e0d6b0": {
          "model_module": "@jupyter-widgets/base",
          "model_module_version": "1.2.0",
          "model_name": "LayoutModel",
          "state": {
            "_model_module": "@jupyter-widgets/base",
            "_model_module_version": "1.2.0",
            "_model_name": "LayoutModel",
            "_view_count": null,
            "_view_module": "@jupyter-widgets/base",
            "_view_module_version": "1.2.0",
            "_view_name": "LayoutView",
            "align_content": null,
            "align_items": null,
            "align_self": null,
            "border": null,
            "bottom": null,
            "display": null,
            "flex": null,
            "flex_flow": null,
            "grid_area": null,
            "grid_auto_columns": null,
            "grid_auto_flow": null,
            "grid_auto_rows": null,
            "grid_column": null,
            "grid_gap": null,
            "grid_row": null,
            "grid_template_areas": null,
            "grid_template_columns": null,
            "grid_template_rows": null,
            "height": null,
            "justify_content": null,
            "justify_items": null,
            "left": null,
            "margin": null,
            "max_height": null,
            "max_width": null,
            "min_height": null,
            "min_width": null,
            "object_fit": null,
            "object_position": null,
            "order": null,
            "overflow": null,
            "overflow_x": null,
            "overflow_y": null,
            "padding": null,
            "right": null,
            "top": null,
            "visibility": null,
            "width": null
          }
        },
        "1a303719cf184f33b564c86ce593c749": {
          "model_module": "@jupyter-widgets/controls",
          "model_module_version": "1.5.0",
          "model_name": "HTMLModel",
          "state": {
            "_dom_classes": [],
            "_model_module": "@jupyter-widgets/controls",
            "_model_module_version": "1.5.0",
            "_model_name": "HTMLModel",
            "_view_count": null,
            "_view_module": "@jupyter-widgets/controls",
            "_view_module_version": "1.5.0",
            "_view_name": "HTMLView",
            "description": "",
            "description_tooltip": null,
            "layout": "IPY_MODEL_4b0c0192e3754d6aad99eecb4f9c7d18",
            "placeholder": "​",
            "style": "IPY_MODEL_17ec41a72d59438796553db79e8ba984",
            "value": "Extracting T2 images: 100%"
          }
        },
        "1c1405cffa8c41c698bb74f275991a28": {
          "model_module": "@jupyter-widgets/controls",
          "model_module_version": "1.5.0",
          "model_name": "FloatProgressModel",
          "state": {
            "_dom_classes": [],
            "_model_module": "@jupyter-widgets/controls",
            "_model_module_version": "1.5.0",
            "_model_name": "FloatProgressModel",
            "_view_count": null,
            "_view_module": "@jupyter-widgets/controls",
            "_view_module_version": "1.5.0",
            "_view_name": "ProgressView",
            "bar_style": "success",
            "description": "",
            "description_tooltip": null,
            "layout": "IPY_MODEL_f9b52ecb879648279c820cadd21827b6",
            "max": 100,
            "min": 0,
            "orientation": "horizontal",
            "style": "IPY_MODEL_d72eb98b40fc45189cef306356b92e31",
            "value": 100
          }
        },
        "4b0c0192e3754d6aad99eecb4f9c7d18": {
          "model_module": "@jupyter-widgets/base",
          "model_module_version": "1.2.0",
          "model_name": "LayoutModel",
          "state": {
            "_model_module": "@jupyter-widgets/base",
            "_model_module_version": "1.2.0",
            "_model_name": "LayoutModel",
            "_view_count": null,
            "_view_module": "@jupyter-widgets/base",
            "_view_module_version": "1.2.0",
            "_view_name": "LayoutView",
            "align_content": null,
            "align_items": null,
            "align_self": null,
            "border": null,
            "bottom": null,
            "display": null,
            "flex": null,
            "flex_flow": null,
            "grid_area": null,
            "grid_auto_columns": null,
            "grid_auto_flow": null,
            "grid_auto_rows": null,
            "grid_column": null,
            "grid_gap": null,
            "grid_row": null,
            "grid_template_areas": null,
            "grid_template_columns": null,
            "grid_template_rows": null,
            "height": null,
            "justify_content": null,
            "justify_items": null,
            "left": null,
            "margin": null,
            "max_height": null,
            "max_width": null,
            "min_height": null,
            "min_width": null,
            "object_fit": null,
            "object_position": null,
            "order": null,
            "overflow": null,
            "overflow_x": null,
            "overflow_y": null,
            "padding": null,
            "right": null,
            "top": null,
            "visibility": null,
            "width": null
          }
        },
        "52925167b2a443c4b95946527d8fedf9": {
          "model_module": "@jupyter-widgets/controls",
          "model_module_version": "1.5.0",
          "model_name": "DescriptionStyleModel",
          "state": {
            "_model_module": "@jupyter-widgets/controls",
            "_model_module_version": "1.5.0",
            "_model_name": "DescriptionStyleModel",
            "_view_count": null,
            "_view_module": "@jupyter-widgets/base",
            "_view_module_version": "1.2.0",
            "_view_name": "StyleView",
            "description_width": ""
          }
        },
        "69dbdc0f51c149c3a486dc4faa3e7cde": {
          "model_module": "@jupyter-widgets/base",
          "model_module_version": "1.2.0",
          "model_name": "LayoutModel",
          "state": {
            "_model_module": "@jupyter-widgets/base",
            "_model_module_version": "1.2.0",
            "_model_name": "LayoutModel",
            "_view_count": null,
            "_view_module": "@jupyter-widgets/base",
            "_view_module_version": "1.2.0",
            "_view_name": "LayoutView",
            "align_content": null,
            "align_items": null,
            "align_self": null,
            "border": null,
            "bottom": null,
            "display": null,
            "flex": null,
            "flex_flow": null,
            "grid_area": null,
            "grid_auto_columns": null,
            "grid_auto_flow": null,
            "grid_auto_rows": null,
            "grid_column": null,
            "grid_gap": null,
            "grid_row": null,
            "grid_template_areas": null,
            "grid_template_columns": null,
            "grid_template_rows": null,
            "height": null,
            "justify_content": null,
            "justify_items": null,
            "left": null,
            "margin": null,
            "max_height": null,
            "max_width": null,
            "min_height": null,
            "min_width": null,
            "object_fit": null,
            "object_position": null,
            "order": null,
            "overflow": null,
            "overflow_x": null,
            "overflow_y": null,
            "padding": null,
            "right": null,
            "top": null,
            "visibility": null,
            "width": null
          }
        },
        "6c48bb38cd2a4b8b876c2e33361f4496": {
          "model_module": "@jupyter-widgets/controls",
          "model_module_version": "1.5.0",
          "model_name": "HTMLModel",
          "state": {
            "_dom_classes": [],
            "_model_module": "@jupyter-widgets/controls",
            "_model_module_version": "1.5.0",
            "_model_name": "HTMLModel",
            "_view_count": null,
            "_view_module": "@jupyter-widgets/controls",
            "_view_module_version": "1.5.0",
            "_view_name": "HTMLView",
            "description": "",
            "description_tooltip": null,
            "layout": "IPY_MODEL_6cbc6872a8de42f8ad12c018f794f1d5",
            "placeholder": "​",
            "style": "IPY_MODEL_acf21ce3f3c9475f8b2b19ace1a352b3",
            "value": " 100/100 [00:41&lt;00:00,  5.46it/s]"
          }
        },
        "6cbc6872a8de42f8ad12c018f794f1d5": {
          "model_module": "@jupyter-widgets/base",
          "model_module_version": "1.2.0",
          "model_name": "LayoutModel",
          "state": {
            "_model_module": "@jupyter-widgets/base",
            "_model_module_version": "1.2.0",
            "_model_name": "LayoutModel",
            "_view_count": null,
            "_view_module": "@jupyter-widgets/base",
            "_view_module_version": "1.2.0",
            "_view_name": "LayoutView",
            "align_content": null,
            "align_items": null,
            "align_self": null,
            "border": null,
            "bottom": null,
            "display": null,
            "flex": null,
            "flex_flow": null,
            "grid_area": null,
            "grid_auto_columns": null,
            "grid_auto_flow": null,
            "grid_auto_rows": null,
            "grid_column": null,
            "grid_gap": null,
            "grid_row": null,
            "grid_template_areas": null,
            "grid_template_columns": null,
            "grid_template_rows": null,
            "height": null,
            "justify_content": null,
            "justify_items": null,
            "left": null,
            "margin": null,
            "max_height": null,
            "max_width": null,
            "min_height": null,
            "min_width": null,
            "object_fit": null,
            "object_position": null,
            "order": null,
            "overflow": null,
            "overflow_x": null,
            "overflow_y": null,
            "padding": null,
            "right": null,
            "top": null,
            "visibility": null,
            "width": null
          }
        },
        "786defb6a82541899da07c48e1a76f8d": {
          "model_module": "@jupyter-widgets/base",
          "model_module_version": "1.2.0",
          "model_name": "LayoutModel",
          "state": {
            "_model_module": "@jupyter-widgets/base",
            "_model_module_version": "1.2.0",
            "_model_name": "LayoutModel",
            "_view_count": null,
            "_view_module": "@jupyter-widgets/base",
            "_view_module_version": "1.2.0",
            "_view_name": "LayoutView",
            "align_content": null,
            "align_items": null,
            "align_self": null,
            "border": null,
            "bottom": null,
            "display": null,
            "flex": null,
            "flex_flow": null,
            "grid_area": null,
            "grid_auto_columns": null,
            "grid_auto_flow": null,
            "grid_auto_rows": null,
            "grid_column": null,
            "grid_gap": null,
            "grid_row": null,
            "grid_template_areas": null,
            "grid_template_columns": null,
            "grid_template_rows": null,
            "height": null,
            "justify_content": null,
            "justify_items": null,
            "left": null,
            "margin": null,
            "max_height": null,
            "max_width": null,
            "min_height": null,
            "min_width": null,
            "object_fit": null,
            "object_position": null,
            "order": null,
            "overflow": null,
            "overflow_x": null,
            "overflow_y": null,
            "padding": null,
            "right": null,
            "top": null,
            "visibility": null,
            "width": null
          }
        },
        "7ac0268267d44315bab4104d7a81ef8c": {
          "model_module": "@jupyter-widgets/base",
          "model_module_version": "1.2.0",
          "model_name": "LayoutModel",
          "state": {
            "_model_module": "@jupyter-widgets/base",
            "_model_module_version": "1.2.0",
            "_model_name": "LayoutModel",
            "_view_count": null,
            "_view_module": "@jupyter-widgets/base",
            "_view_module_version": "1.2.0",
            "_view_name": "LayoutView",
            "align_content": null,
            "align_items": null,
            "align_self": null,
            "border": null,
            "bottom": null,
            "display": null,
            "flex": null,
            "flex_flow": null,
            "grid_area": null,
            "grid_auto_columns": null,
            "grid_auto_flow": null,
            "grid_auto_rows": null,
            "grid_column": null,
            "grid_gap": null,
            "grid_row": null,
            "grid_template_areas": null,
            "grid_template_columns": null,
            "grid_template_rows": null,
            "height": null,
            "justify_content": null,
            "justify_items": null,
            "left": null,
            "margin": null,
            "max_height": null,
            "max_width": null,
            "min_height": null,
            "min_width": null,
            "object_fit": null,
            "object_position": null,
            "order": null,
            "overflow": null,
            "overflow_x": null,
            "overflow_y": null,
            "padding": null,
            "right": null,
            "top": null,
            "visibility": null,
            "width": null
          }
        },
        "91820d5db6e04167b808066183fe9303": {
          "model_module": "@jupyter-widgets/base",
          "model_module_version": "1.2.0",
          "model_name": "LayoutModel",
          "state": {
            "_model_module": "@jupyter-widgets/base",
            "_model_module_version": "1.2.0",
            "_model_name": "LayoutModel",
            "_view_count": null,
            "_view_module": "@jupyter-widgets/base",
            "_view_module_version": "1.2.0",
            "_view_name": "LayoutView",
            "align_content": null,
            "align_items": null,
            "align_self": null,
            "border": null,
            "bottom": null,
            "display": null,
            "flex": null,
            "flex_flow": null,
            "grid_area": null,
            "grid_auto_columns": null,
            "grid_auto_flow": null,
            "grid_auto_rows": null,
            "grid_column": null,
            "grid_gap": null,
            "grid_row": null,
            "grid_template_areas": null,
            "grid_template_columns": null,
            "grid_template_rows": null,
            "height": null,
            "justify_content": null,
            "justify_items": null,
            "left": null,
            "margin": null,
            "max_height": null,
            "max_width": null,
            "min_height": null,
            "min_width": null,
            "object_fit": null,
            "object_position": null,
            "order": null,
            "overflow": null,
            "overflow_x": null,
            "overflow_y": null,
            "padding": null,
            "right": null,
            "top": null,
            "visibility": null,
            "width": null
          }
        },
        "9189b2709e464743a075fdfbca28d523": {
          "model_module": "@jupyter-widgets/controls",
          "model_module_version": "1.5.0",
          "model_name": "DescriptionStyleModel",
          "state": {
            "_model_module": "@jupyter-widgets/controls",
            "_model_module_version": "1.5.0",
            "_model_name": "DescriptionStyleModel",
            "_view_count": null,
            "_view_module": "@jupyter-widgets/base",
            "_view_module_version": "1.2.0",
            "_view_name": "StyleView",
            "description_width": ""
          }
        },
        "954618c25e6b4e318c6507eaa27eee20": {
          "model_module": "@jupyter-widgets/controls",
          "model_module_version": "1.5.0",
          "model_name": "HTMLModel",
          "state": {
            "_dom_classes": [],
            "_model_module": "@jupyter-widgets/controls",
            "_model_module_version": "1.5.0",
            "_model_name": "HTMLModel",
            "_view_count": null,
            "_view_module": "@jupyter-widgets/controls",
            "_view_module_version": "1.5.0",
            "_view_name": "HTMLView",
            "description": "",
            "description_tooltip": null,
            "layout": "IPY_MODEL_b8c06b7e1a4246598a7169cb79f16c17",
            "placeholder": "​",
            "style": "IPY_MODEL_b92b5f3b879e4de1b62e812635feba68",
            "value": "100%"
          }
        },
        "9f1469e8baa54ae49051c1ab928b8577": {
          "model_module": "@jupyter-widgets/base",
          "model_module_version": "1.2.0",
          "model_name": "LayoutModel",
          "state": {
            "_model_module": "@jupyter-widgets/base",
            "_model_module_version": "1.2.0",
            "_model_name": "LayoutModel",
            "_view_count": null,
            "_view_module": "@jupyter-widgets/base",
            "_view_module_version": "1.2.0",
            "_view_name": "LayoutView",
            "align_content": null,
            "align_items": null,
            "align_self": null,
            "border": null,
            "bottom": null,
            "display": null,
            "flex": null,
            "flex_flow": null,
            "grid_area": null,
            "grid_auto_columns": null,
            "grid_auto_flow": null,
            "grid_auto_rows": null,
            "grid_column": null,
            "grid_gap": null,
            "grid_row": null,
            "grid_template_areas": null,
            "grid_template_columns": null,
            "grid_template_rows": null,
            "height": null,
            "justify_content": null,
            "justify_items": null,
            "left": null,
            "margin": null,
            "max_height": null,
            "max_width": null,
            "min_height": null,
            "min_width": null,
            "object_fit": null,
            "object_position": null,
            "order": null,
            "overflow": null,
            "overflow_x": null,
            "overflow_y": null,
            "padding": null,
            "right": null,
            "top": null,
            "visibility": null,
            "width": null
          }
        },
        "a03728c58f754e1890bae187cbe81719": {
          "model_module": "@jupyter-widgets/controls",
          "model_module_version": "1.5.0",
          "model_name": "HTMLModel",
          "state": {
            "_dom_classes": [],
            "_model_module": "@jupyter-widgets/controls",
            "_model_module_version": "1.5.0",
            "_model_name": "HTMLModel",
            "_view_count": null,
            "_view_module": "@jupyter-widgets/controls",
            "_view_module_version": "1.5.0",
            "_view_name": "HTMLView",
            "description": "",
            "description_tooltip": null,
            "layout": "IPY_MODEL_cb0c4644aedf4a3b8b1f301ff0e03d97",
            "placeholder": "​",
            "style": "IPY_MODEL_52925167b2a443c4b95946527d8fedf9",
            "value": " 32/32 [00:17&lt;00:00,  1.83it/s]"
          }
        },
        "a9de09a2020d4596a278e8e7d04ebf89": {
          "model_module": "@jupyter-widgets/controls",
          "model_module_version": "1.5.0",
          "model_name": "HBoxModel",
          "state": {
            "_dom_classes": [],
            "_model_module": "@jupyter-widgets/controls",
            "_model_module_version": "1.5.0",
            "_model_name": "HBoxModel",
            "_view_count": null,
            "_view_module": "@jupyter-widgets/controls",
            "_view_module_version": "1.5.0",
            "_view_name": "HBoxView",
            "box_style": "",
            "children": [
              "IPY_MODEL_1a303719cf184f33b564c86ce593c749",
              "IPY_MODEL_f157f06e801346f8a8f4a2e4107b3a9b",
              "IPY_MODEL_a03728c58f754e1890bae187cbe81719"
            ],
            "layout": "IPY_MODEL_7ac0268267d44315bab4104d7a81ef8c"
          }
        },
        "acf21ce3f3c9475f8b2b19ace1a352b3": {
          "model_module": "@jupyter-widgets/controls",
          "model_module_version": "1.5.0",
          "model_name": "DescriptionStyleModel",
          "state": {
            "_model_module": "@jupyter-widgets/controls",
            "_model_module_version": "1.5.0",
            "_model_name": "DescriptionStyleModel",
            "_view_count": null,
            "_view_module": "@jupyter-widgets/base",
            "_view_module_version": "1.2.0",
            "_view_name": "StyleView",
            "description_width": ""
          }
        },
        "af5307bf577848ef86ae65fac19d4e2c": {
          "model_module": "@jupyter-widgets/base",
          "model_module_version": "1.2.0",
          "model_name": "LayoutModel",
          "state": {
            "_model_module": "@jupyter-widgets/base",
            "_model_module_version": "1.2.0",
            "_model_name": "LayoutModel",
            "_view_count": null,
            "_view_module": "@jupyter-widgets/base",
            "_view_module_version": "1.2.0",
            "_view_name": "LayoutView",
            "align_content": null,
            "align_items": null,
            "align_self": null,
            "border": null,
            "bottom": null,
            "display": null,
            "flex": null,
            "flex_flow": null,
            "grid_area": null,
            "grid_auto_columns": null,
            "grid_auto_flow": null,
            "grid_auto_rows": null,
            "grid_column": null,
            "grid_gap": null,
            "grid_row": null,
            "grid_template_areas": null,
            "grid_template_columns": null,
            "grid_template_rows": null,
            "height": null,
            "justify_content": null,
            "justify_items": null,
            "left": null,
            "margin": null,
            "max_height": null,
            "max_width": null,
            "min_height": null,
            "min_width": null,
            "object_fit": null,
            "object_position": null,
            "order": null,
            "overflow": null,
            "overflow_x": null,
            "overflow_y": null,
            "padding": null,
            "right": null,
            "top": null,
            "visibility": null,
            "width": null
          }
        },
        "b8c06b7e1a4246598a7169cb79f16c17": {
          "model_module": "@jupyter-widgets/base",
          "model_module_version": "1.2.0",
          "model_name": "LayoutModel",
          "state": {
            "_model_module": "@jupyter-widgets/base",
            "_model_module_version": "1.2.0",
            "_model_name": "LayoutModel",
            "_view_count": null,
            "_view_module": "@jupyter-widgets/base",
            "_view_module_version": "1.2.0",
            "_view_name": "LayoutView",
            "align_content": null,
            "align_items": null,
            "align_self": null,
            "border": null,
            "bottom": null,
            "display": null,
            "flex": null,
            "flex_flow": null,
            "grid_area": null,
            "grid_auto_columns": null,
            "grid_auto_flow": null,
            "grid_auto_rows": null,
            "grid_column": null,
            "grid_gap": null,
            "grid_row": null,
            "grid_template_areas": null,
            "grid_template_columns": null,
            "grid_template_rows": null,
            "height": null,
            "justify_content": null,
            "justify_items": null,
            "left": null,
            "margin": null,
            "max_height": null,
            "max_width": null,
            "min_height": null,
            "min_width": null,
            "object_fit": null,
            "object_position": null,
            "order": null,
            "overflow": null,
            "overflow_x": null,
            "overflow_y": null,
            "padding": null,
            "right": null,
            "top": null,
            "visibility": null,
            "width": null
          }
        },
        "b92b5f3b879e4de1b62e812635feba68": {
          "model_module": "@jupyter-widgets/controls",
          "model_module_version": "1.5.0",
          "model_name": "DescriptionStyleModel",
          "state": {
            "_model_module": "@jupyter-widgets/controls",
            "_model_module_version": "1.5.0",
            "_model_name": "DescriptionStyleModel",
            "_view_count": null,
            "_view_module": "@jupyter-widgets/base",
            "_view_module_version": "1.2.0",
            "_view_name": "StyleView",
            "description_width": ""
          }
        },
        "babc4d7f8e2c48b5a859c43be8694ab0": {
          "model_module": "@jupyter-widgets/controls",
          "model_module_version": "1.5.0",
          "model_name": "HBoxModel",
          "state": {
            "_dom_classes": [],
            "_model_module": "@jupyter-widgets/controls",
            "_model_module_version": "1.5.0",
            "_model_name": "HBoxModel",
            "_view_count": null,
            "_view_module": "@jupyter-widgets/controls",
            "_view_module_version": "1.5.0",
            "_view_name": "HBoxView",
            "box_style": "",
            "children": [
              "IPY_MODEL_db597dcd4905468bb2be8c48dd72c736",
              "IPY_MODEL_1c1405cffa8c41c698bb74f275991a28",
              "IPY_MODEL_6c48bb38cd2a4b8b876c2e33361f4496"
            ],
            "layout": "IPY_MODEL_69dbdc0f51c149c3a486dc4faa3e7cde"
          }
        },
        "c24b5e0b0fa34ba1bb5730862741db26": {
          "model_module": "@jupyter-widgets/controls",
          "model_module_version": "1.5.0",
          "model_name": "DescriptionStyleModel",
          "state": {
            "_model_module": "@jupyter-widgets/controls",
            "_model_module_version": "1.5.0",
            "_model_name": "DescriptionStyleModel",
            "_view_count": null,
            "_view_module": "@jupyter-widgets/base",
            "_view_module_version": "1.2.0",
            "_view_name": "StyleView",
            "description_width": ""
          }
        },
        "c975538c94284d0da22d81009561c81c": {
          "model_module": "@jupyter-widgets/controls",
          "model_module_version": "1.5.0",
          "model_name": "ProgressStyleModel",
          "state": {
            "_model_module": "@jupyter-widgets/controls",
            "_model_module_version": "1.5.0",
            "_model_name": "ProgressStyleModel",
            "_view_count": null,
            "_view_module": "@jupyter-widgets/base",
            "_view_module_version": "1.2.0",
            "_view_name": "StyleView",
            "bar_color": null,
            "description_width": ""
          }
        },
        "cb0c4644aedf4a3b8b1f301ff0e03d97": {
          "model_module": "@jupyter-widgets/base",
          "model_module_version": "1.2.0",
          "model_name": "LayoutModel",
          "state": {
            "_model_module": "@jupyter-widgets/base",
            "_model_module_version": "1.2.0",
            "_model_name": "LayoutModel",
            "_view_count": null,
            "_view_module": "@jupyter-widgets/base",
            "_view_module_version": "1.2.0",
            "_view_name": "LayoutView",
            "align_content": null,
            "align_items": null,
            "align_self": null,
            "border": null,
            "bottom": null,
            "display": null,
            "flex": null,
            "flex_flow": null,
            "grid_area": null,
            "grid_auto_columns": null,
            "grid_auto_flow": null,
            "grid_auto_rows": null,
            "grid_column": null,
            "grid_gap": null,
            "grid_row": null,
            "grid_template_areas": null,
            "grid_template_columns": null,
            "grid_template_rows": null,
            "height": null,
            "justify_content": null,
            "justify_items": null,
            "left": null,
            "margin": null,
            "max_height": null,
            "max_width": null,
            "min_height": null,
            "min_width": null,
            "object_fit": null,
            "object_position": null,
            "order": null,
            "overflow": null,
            "overflow_x": null,
            "overflow_y": null,
            "padding": null,
            "right": null,
            "top": null,
            "visibility": null,
            "width": null
          }
        },
        "cf290afafd3848f9804138610db5d98c": {
          "model_module": "@jupyter-widgets/controls",
          "model_module_version": "1.5.0",
          "model_name": "HBoxModel",
          "state": {
            "_dom_classes": [],
            "_model_module": "@jupyter-widgets/controls",
            "_model_module_version": "1.5.0",
            "_model_name": "HBoxModel",
            "_view_count": null,
            "_view_module": "@jupyter-widgets/controls",
            "_view_module_version": "1.5.0",
            "_view_name": "HBoxView",
            "box_style": "",
            "children": [
              "IPY_MODEL_954618c25e6b4e318c6507eaa27eee20",
              "IPY_MODEL_e8a46f8ac7594dfd998ac62d0b53d03f",
              "IPY_MODEL_f1037f917cac41609c4746609b089b4f"
            ],
            "layout": "IPY_MODEL_786defb6a82541899da07c48e1a76f8d"
          }
        },
        "d72eb98b40fc45189cef306356b92e31": {
          "model_module": "@jupyter-widgets/controls",
          "model_module_version": "1.5.0",
          "model_name": "ProgressStyleModel",
          "state": {
            "_model_module": "@jupyter-widgets/controls",
            "_model_module_version": "1.5.0",
            "_model_name": "ProgressStyleModel",
            "_view_count": null,
            "_view_module": "@jupyter-widgets/base",
            "_view_module_version": "1.2.0",
            "_view_name": "StyleView",
            "bar_color": null,
            "description_width": ""
          }
        },
        "db597dcd4905468bb2be8c48dd72c736": {
          "model_module": "@jupyter-widgets/controls",
          "model_module_version": "1.5.0",
          "model_name": "HTMLModel",
          "state": {
            "_dom_classes": [],
            "_model_module": "@jupyter-widgets/controls",
            "_model_module_version": "1.5.0",
            "_model_name": "HTMLModel",
            "_view_count": null,
            "_view_module": "@jupyter-widgets/controls",
            "_view_module_version": "1.5.0",
            "_view_name": "HTMLView",
            "description": "",
            "description_tooltip": null,
            "layout": "IPY_MODEL_9f1469e8baa54ae49051c1ab928b8577",
            "placeholder": "​",
            "style": "IPY_MODEL_c24b5e0b0fa34ba1bb5730862741db26",
            "value": "Converting images: 100%"
          }
        },
        "e5de0a4539bd4a0b8a78aa4510e1d34a": {
          "model_module": "@jupyter-widgets/controls",
          "model_module_version": "1.5.0",
          "model_name": "ProgressStyleModel",
          "state": {
            "_model_module": "@jupyter-widgets/controls",
            "_model_module_version": "1.5.0",
            "_model_name": "ProgressStyleModel",
            "_view_count": null,
            "_view_module": "@jupyter-widgets/base",
            "_view_module_version": "1.2.0",
            "_view_name": "StyleView",
            "bar_color": null,
            "description_width": ""
          }
        },
        "e8a46f8ac7594dfd998ac62d0b53d03f": {
          "model_module": "@jupyter-widgets/controls",
          "model_module_version": "1.5.0",
          "model_name": "FloatProgressModel",
          "state": {
            "_dom_classes": [],
            "_model_module": "@jupyter-widgets/controls",
            "_model_module_version": "1.5.0",
            "_model_name": "FloatProgressModel",
            "_view_count": null,
            "_view_module": "@jupyter-widgets/controls",
            "_view_module_version": "1.5.0",
            "_view_name": "ProgressView",
            "bar_style": "success",
            "description": "",
            "description_tooltip": null,
            "layout": "IPY_MODEL_195cb53580054763aefd6f5e68e0d6b0",
            "max": 30,
            "min": 0,
            "orientation": "horizontal",
            "style": "IPY_MODEL_c975538c94284d0da22d81009561c81c",
            "value": 30
          }
        },
        "f1037f917cac41609c4746609b089b4f": {
          "model_module": "@jupyter-widgets/controls",
          "model_module_version": "1.5.0",
          "model_name": "HTMLModel",
          "state": {
            "_dom_classes": [],
            "_model_module": "@jupyter-widgets/controls",
            "_model_module_version": "1.5.0",
            "_model_name": "HTMLModel",
            "_view_count": null,
            "_view_module": "@jupyter-widgets/controls",
            "_view_module_version": "1.5.0",
            "_view_name": "HTMLView",
            "description": "",
            "description_tooltip": null,
            "layout": "IPY_MODEL_af5307bf577848ef86ae65fac19d4e2c",
            "placeholder": "​",
            "style": "IPY_MODEL_9189b2709e464743a075fdfbca28d523",
            "value": " 30/30 [00:29&lt;00:00,  1.34it/s]"
          }
        },
        "f157f06e801346f8a8f4a2e4107b3a9b": {
          "model_module": "@jupyter-widgets/controls",
          "model_module_version": "1.5.0",
          "model_name": "FloatProgressModel",
          "state": {
            "_dom_classes": [],
            "_model_module": "@jupyter-widgets/controls",
            "_model_module_version": "1.5.0",
            "_model_name": "FloatProgressModel",
            "_view_count": null,
            "_view_module": "@jupyter-widgets/controls",
            "_view_module_version": "1.5.0",
            "_view_name": "ProgressView",
            "bar_style": "success",
            "description": "",
            "description_tooltip": null,
            "layout": "IPY_MODEL_91820d5db6e04167b808066183fe9303",
            "max": 32,
            "min": 0,
            "orientation": "horizontal",
            "style": "IPY_MODEL_e5de0a4539bd4a0b8a78aa4510e1d34a",
            "value": 32
          }
        },
        "f9b52ecb879648279c820cadd21827b6": {
          "model_module": "@jupyter-widgets/base",
          "model_module_version": "1.2.0",
          "model_name": "LayoutModel",
          "state": {
            "_model_module": "@jupyter-widgets/base",
            "_model_module_version": "1.2.0",
            "_model_name": "LayoutModel",
            "_view_count": null,
            "_view_module": "@jupyter-widgets/base",
            "_view_module_version": "1.2.0",
            "_view_name": "LayoutView",
            "align_content": null,
            "align_items": null,
            "align_self": null,
            "border": null,
            "bottom": null,
            "display": null,
            "flex": null,
            "flex_flow": null,
            "grid_area": null,
            "grid_auto_columns": null,
            "grid_auto_flow": null,
            "grid_auto_rows": null,
            "grid_column": null,
            "grid_gap": null,
            "grid_row": null,
            "grid_template_areas": null,
            "grid_template_columns": null,
            "grid_template_rows": null,
            "height": null,
            "justify_content": null,
            "justify_items": null,
            "left": null,
            "margin": null,
            "max_height": null,
            "max_width": null,
            "min_height": null,
            "min_width": null,
            "object_fit": null,
            "object_position": null,
            "order": null,
            "overflow": null,
            "overflow_x": null,
            "overflow_y": null,
            "padding": null,
            "right": null,
            "top": null,
            "visibility": null,
            "width": null
          }
        }
      }
    }
  },
  "nbformat": 4,
  "nbformat_minor": 0
}
